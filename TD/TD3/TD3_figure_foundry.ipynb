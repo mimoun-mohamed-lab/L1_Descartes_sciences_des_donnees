{
 "cells": [
  {
   "cell_type": "code",
   "execution_count": 6,
   "id": "f54d429a-3a19-4223-a7dd-ef1a4a2f8fab",
   "metadata": {},
   "outputs": [],
   "source": [
    "import matplotlib\n",
    "matplotlib.use(\"pgf\")\n",
    "matplotlib.rcParams.update({\n",
    "    \"pgf.texsystem\": \"pdflatex\",\n",
    "    'font.family': 'serif',\n",
    "    'text.usetex': True,\n",
    "    'pgf.rcfonts': False,\n",
    "})"
   ]
  },
  {
   "cell_type": "code",
   "execution_count": 7,
   "id": "54d68500-2fec-43c5-9532-ab50b738e637",
   "metadata": {},
   "outputs": [],
   "source": [
    "import numpy as np\n",
    "import pandas\n",
    "import seaborn\n",
    "import matplotlib.pyplot as plt"
   ]
  },
  {
   "cell_type": "code",
   "execution_count": 8,
   "id": "22a69fe4-6a8b-4230-aaec-d28cfd70c612",
   "metadata": {},
   "outputs": [],
   "source": [
    "rng = np.random.default_rng()"
   ]
  },
  {
   "cell_type": "markdown",
   "id": "27c5c936-63fe-491b-8f38-c417b8d6eb67",
   "metadata": {},
   "source": [
    "# Basic bootstrapping code"
   ]
  },
  {
   "cell_type": "code",
   "execution_count": 9,
   "id": "5672682b-cb74-4baf-9d53-0ef1658d1cfc",
   "metadata": {},
   "outputs": [],
   "source": [
    "def get_n_samples_from_empirical_distribution_of_base_sample(base_sample, n):\n",
    "    samples = []\n",
    "    for i in range(n):\n",
    "        samples.append(rng.choice(base_sample))\n",
    "    return samples\n",
    "\n",
    "def get_one_sample_from_boostrap_estimate_of_estimator_distribution(base_sample, estimation_function):\n",
    "    resample = get_n_samples_from_empirical_distribution_of_base_sample(base_sample, len(base_sample))\n",
    "    return estimation_function(resample)\n",
    "\n",
    "def get_n_samples_from_boostrap_estimate_of_estimator_distribution(base_sample, estimation_function, n):\n",
    "    samples = []\n",
    "    for i in range(n):\n",
    "        samples.append(get_one_sample_from_boostrap_estimate_of_estimator_distribution(base_sample, estimation_function))\n",
    "    return samples"
   ]
  },
  {
   "cell_type": "code",
   "execution_count": 10,
   "id": "50873d0d-4998-4719-bcaa-4f0688d7838f",
   "metadata": {},
   "outputs": [
    {
     "name": "stdout",
     "output_type": "stream",
     "text": [
      "0.051611577445550214\n",
      "0.01704420668792893\n",
      "0.020207057703826917\n"
     ]
    }
   ],
   "source": [
    "# Simple test\n",
    "base_sample = np.random.randn(400)\n",
    "estimation_function = np.mean\n",
    "samples = get_n_samples_from_boostrap_estimate_of_estimator_distribution(base_sample, estimation_function, n=1000)\n",
    "seaborn.displot(data=samples, kind='hist', stat='density')\n",
    "print(np.array(samples).std())\n",
    "print(np.mean(base_sample))\n",
    "print(np.mean(samples))"
   ]
  },
  {
   "cell_type": "markdown",
   "id": "be8f4fbd-b823-44ce-8f87-367154cc3c90",
   "metadata": {},
   "source": [
    "# Risk graph"
   ]
  },
  {
   "cell_type": "code",
   "execution_count": 4,
   "id": "119068a4-ed07-4c7e-8b47-d38ec34bd807",
   "metadata": {},
   "outputs": [],
   "source": [
    "x1 = np.linspace(440, 500, 100)\n",
    "y1 = 10**((x1-10)/20-25)\n",
    "x2 = np.linspace(350, 440, 100)\n",
    "y2 = 10**((x2-10)/5-89.5)\n",
    "x = np.concatenate([x1, x2])\n",
    "y = np.concatenate([y1, y2])\n",
    "seaborn.relplot(x=x, y=y, kind='line', aspect=1.5, linewidth=5)\n",
    "plt.yscale('log')\n",
    "plt.xlabel('K', fontsize=18)\n",
    "plt.ylabel('Probabilité de fusion du cœur\\n sur la durée vie de la centrale', fontsize=18)\n",
    "plt.xticks(fontsize=18)\n",
    "plt.yticks([1, 1e-03, 1e-06, 1e-09, 1e-12, 1e-15, 1e-18], fontsize=18)\n",
    "plt.grid()\n",
    "plt.tight_layout()\n",
    "plt.savefig('fusion_proba.pdf')"
   ]
  },
  {
   "cell_type": "markdown",
   "id": "1f40a77a-3f0b-4a26-b4c2-719b5fc91598",
   "metadata": {},
   "source": [
    "# Small samples"
   ]
  },
  {
   "cell_type": "code",
   "execution_count": 5,
   "id": "514f8dcc-ab14-468a-a3c0-cb6ed5877308",
   "metadata": {},
   "outputs": [
    {
     "name": "stdout",
     "output_type": "stream",
     "text": [
      "381.0525625\n",
      "426.85714285714283\n"
     ]
    }
   ],
   "source": [
    "rounded_F = [11.5, 0.02, 779, 13.9, 1124, 526, 0.0005, 594]\n",
    "rounded_N = [488, 631, 110, 432, 444, 705, 178]\n",
    "print(np.mean(rounded_F))\n",
    "print(np.mean(rounded_N))"
   ]
  },
  {
   "cell_type": "code",
   "execution_count": null,
   "id": "3ef96d33-1004-4c1b-9342-380dcf13abe9",
   "metadata": {},
   "outputs": [],
   "source": [
    "seaborn.displot(rounded_F, kind='hist', stat='density', bins=[0, 250, 500, 750, 1000, 1250])\n",
    "plt.xlabel('K', fontsize=18)\n",
    "plt.ylabel('Densité', fontsize=18)\n",
    "plt.tight_layout()\n",
    "plt.savefig('hat_PF.pdf')"
   ]
  },
  {
   "cell_type": "code",
   "execution_count": null,
   "id": "9b3a5203-0a5c-4866-875c-d2f8b0133d86",
   "metadata": {},
   "outputs": [],
   "source": [
    "def sample_PF():\n",
    "    sample = []\n",
    "    for i in range(8):\n",
    "        flip = rng.integers(2)\n",
    "        if flip == 1:\n",
    "            sample.append(379)\n",
    "        else:\n",
    "            sample.append(383)\n",
    "    return sample\n",
    "\n",
    "means = []\n",
    "for i in range(40):\n",
    "    sample = sample_PF()\n",
    "    means.append(np.mean(sample))"
   ]
  },
  {
   "cell_type": "code",
   "execution_count": null,
   "id": "ce854c8c-ce5d-4242-9ce0-fde87a1e42a0",
   "metadata": {},
   "outputs": [],
   "source": [
    "values, counts = np.unique(means, return_counts=True)\n",
    "seaborn.catplot(x=values, y=counts/40, kind='bar')\n",
    "plt.ylabel('Masse de probabilité estimée', fontsize=18)\n",
    "plt.xlabel(r'$\\hat{K}_F$', fontsize=18)\n",
    "plt.tight_layout()\n",
    "plt.savefig('distrib_for_known_PF.pdf')"
   ]
  },
  {
   "cell_type": "code",
   "execution_count": null,
   "id": "158803aa-3bc9-4414-a08e-67c410c8f70d",
   "metadata": {},
   "outputs": [],
   "source": [
    "bF = get_n_samples_from_boostrap_estimate_of_estimator_distribution(rounded_F, np.mean, n=40)\n",
    "#bN = get_n_samples_from_boostrap_estimate_of_estimator_distribution(rounded_N, np.mean, n=1000)\n",
    "dbF = pandas.DataFrame({r'$\\hat{K}_F$': bF})\n",
    "#dbN = pandas.DataFrame({'mean_fusion_proba': bN, 'technology': ['N']*len(bN)})\n",
    "seaborn.displot(data=dbF, x=r'$\\hat{K}_F$', kind='hist', stat='density')\n",
    "plt.ylabel('Densité', fontsize=18)\n",
    "plt.xlabel(r'$\\hat{K}_F$', fontsize=18)\n",
    "plt.tight_layout()\n",
    "plt.savefig('boostrap_distribution_hat_KF.pdf')"
   ]
  },
  {
   "cell_type": "markdown",
   "id": "b00b18eb-3456-4925-a5f9-8e5a7d4decb0",
   "metadata": {},
   "source": [
    "### below is how I drew the samples above initially"
   ]
  },
  {
   "cell_type": "code",
   "execution_count": null,
   "id": "af26c13c-c8de-4527-8f09-d20edc7d952c",
   "metadata": {},
   "outputs": [],
   "source": [
    "D_F = rng.gamma(.16, 2500, 8)\n",
    "print(D_F)"
   ]
  },
  {
   "cell_type": "code",
   "execution_count": null,
   "id": "c5ef647a-3faf-400e-bc3d-79b2c47ac0d9",
   "metadata": {},
   "outputs": [],
   "source": [
    "D_N = rng.gamma(4.1, 100, 8)\n",
    "print(D_N)"
   ]
  },
  {
   "cell_type": "code",
   "execution_count": null,
   "id": "3621083c-b52b-4b8f-bc3f-71e9bcdc95e1",
   "metadata": {},
   "outputs": [],
   "source": [
    "seaborn.displot(D_N)\n",
    "print(np.mean(D_N))"
   ]
  },
  {
   "cell_type": "code",
   "execution_count": null,
   "id": "d6f10d37-a785-45df-8209-40763f4b0b0f",
   "metadata": {},
   "outputs": [],
   "source": [
    "seaborn.displot(D_F)\n",
    "print(np.mean(D_F))"
   ]
  },
  {
   "cell_type": "code",
   "execution_count": null,
   "id": "6450a066-2d05-4e66-b2f7-6f8a92cca297",
   "metadata": {},
   "outputs": [],
   "source": [
    "bF = get_n_samples_from_boostrap_estimate_of_estimator_distribution(D_F, np.mean, n=1000)\n",
    "bN = get_n_samples_from_boostrap_estimate_of_estimator_distribution(D_N, np.mean, n=1000)\n",
    "dbF = pandas.DataFrame({'mean_fusion_proba': bF, 'technology': ['F']*len(bF)})\n",
    "dbN = pandas.DataFrame({'mean_fusion_proba': bN, 'technology': ['N']*len(bN)})\n",
    "b = pandas.concat([dbF, dbN])\n",
    "seaborn.displot(data=b, x='mean_fusion_proba', hue='technology', kind='hist', stat='density', common_norm=False)"
   ]
  },
  {
   "cell_type": "markdown",
   "id": "766ea235-551b-41f1-b6f7-3453e1a3ad8e",
   "metadata": {},
   "source": [
    "# Analysis with 5000 samples and 1000 resamples"
   ]
  },
  {
   "cell_type": "code",
   "execution_count": null,
   "id": "f36b2346-ff76-493f-80ab-55e3cca94ec3",
   "metadata": {},
   "outputs": [],
   "source": [
    "D_F = rng.gamma(.16, 2500, 5000)\n",
    "D_N = rng.gamma(4.1, 100, 5000)\n",
    "#print(D_F)\n",
    "#print(D_N)"
   ]
  },
  {
   "cell_type": "code",
   "execution_count": null,
   "id": "b38b08f2-a51f-45c4-976d-deff2acfc8ed",
   "metadata": {},
   "outputs": [],
   "source": [
    "seaborn.displot(D_F)"
   ]
  },
  {
   "cell_type": "code",
   "execution_count": null,
   "id": "dab1fb5f-532b-41f8-8bd9-c930f2ded86d",
   "metadata": {},
   "outputs": [],
   "source": [
    "seaborn.displot(D_N)"
   ]
  },
  {
   "cell_type": "code",
   "execution_count": null,
   "id": "31780226-e110-420d-8a33-03b16195e825",
   "metadata": {},
   "outputs": [],
   "source": [
    "np.mean(D_F)"
   ]
  },
  {
   "cell_type": "code",
   "execution_count": null,
   "id": "85494c9f-994e-4838-a596-e5f526eb2fe7",
   "metadata": {},
   "outputs": [],
   "source": [
    "np.mean(D_N)"
   ]
  },
  {
   "cell_type": "code",
   "execution_count": null,
   "id": "9494ff2b-cd6f-4940-bf91-e5218a0653ee",
   "metadata": {},
   "outputs": [],
   "source": [
    "bF = get_n_samples_from_boostrap_estimate_of_estimator_distribution(D_F, np.mean, n=1000)\n",
    "bN = get_n_samples_from_boostrap_estimate_of_estimator_distribution(D_N, np.mean, n=1000)"
   ]
  },
  {
   "cell_type": "code",
   "execution_count": null,
   "id": "96dc5ee3-1ec2-4267-9f6d-579ed081e7db",
   "metadata": {},
   "outputs": [],
   "source": [
    "dbF = pandas.DataFrame({r'$\\hat{K}_F$': bF, 'Technologie': ['F']*len(bF)})\n",
    "dbN = pandas.DataFrame({r'$\\hat{K}_F$': bN, 'Technologie': ['N']*len(bN)})\n",
    "b = pandas.concat([dbF, dbN])\n",
    "seaborn.displot(data=b, x=r'$\\hat{K}_F$', hue='Technologie', kind='hist', stat='density', common_norm=False)\n",
    "plt.ylabel('Densité', fontsize=20)\n",
    "plt.xlabel(r'$\\hat{K}_F$', fontsize=20)\n",
    "plt.xticks(fontsize=18)\n",
    "plt.yticks(fontsize=18)\n",
    "plt.tight_layout()\n",
    "plt.savefig('boostrap_distribution_hat_KF_hat_KN_5000_1000.pdf')"
   ]
  }
 ],
 "metadata": {
  "kernelspec": {
   "display_name": "Python 3 (ipykernel)",
   "language": "python",
   "name": "python3"
  },
  "language_info": {
   "codemirror_mode": {
    "name": "ipython",
    "version": 3
   },
   "file_extension": ".py",
   "mimetype": "text/x-python",
   "name": "python",
   "nbconvert_exporter": "python",
   "pygments_lexer": "ipython3",
   "version": "3.12.4"
  }
 },
 "nbformat": 4,
 "nbformat_minor": 5
}
