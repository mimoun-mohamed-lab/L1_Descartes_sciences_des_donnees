{
 "cells": [
  {
   "cell_type": "markdown",
   "id": "cell-lab01-1",
   "metadata": {
    "deletable": false,
    "tags": []
   },
   "source": [
    "# TP2 Causalité et démarche scientifique\n",
    "\n",
    "On ne peut pas maîtriser les sujets techniques sans pratique, c'est pourquoi les travaux pratiques (TPs) sont une partie importante du cours de sciences des données.\n",
    "\n",
    "Si vous restez bloqué plus de quelques minutes sur des questions dans une partie non notée d'un TP, demandez de l'aide à un enseignant ou à un camarade de classe (Expliquer les choses est également bénéfique : la meilleure façon de consolider votre connaissance d'un sujet est de l'expliquer). Ne vous contentez pas de juste partager vos réponses sans explication, personne n'en bénéficierait.\n",
    "\n",
    "\n",
    "#### TP d'aujourd'hui\n",
    "\n",
    "Dans le TP d'aujourd'hui, vous allez travailler les compétences suivantes :\n",
    "\n",
    "1. réaliser des simulations aléatoires avec la librairie *numpy.random* de python\n",
    "2. concevoir une simulation aléatoire pour tester une hypothèse\n",
    "3. mettre en forme les résultats de la simulation dans un tableau (*DataFrame* de la libraire *pandas*)\n",
    "4. visualiser ces résultats par la réalisation de graphes appropriés avec la librairie *seaborn*\n",
    "5. interpréter les résultats\n",
    " \n",
    "<font color='red'>**La dernière partie du TP (partie 2) est à rendre et notée. Le rendu doit obligatoirement se faire par le biais d'amétice avant la fin de la séance de TP.**</font>"
   ]
  },
  {
   "cell_type": "markdown",
   "id": "4b9567d8-404e-46ac-81cf-bb082caff67b",
   "metadata": {},
   "source": [
    "# 1. Détection d'un tricheur dans un jeu de dés (durée indicative 1h)"
   ]
  },
  {
   "cell_type": "markdown",
   "id": "353a755c-b7a8-49ff-8aba-bf27a1f582ce",
   "metadata": {},
   "source": [
    "## 1.1 Simulation aléatoire avec *numpy.random* : lancé de dé à six faces (durée indicative 15min)"
   ]
  },
  {
   "cell_type": "markdown",
   "id": "f19523f2-08b8-450f-92d0-ec88567cf8f7",
   "metadata": {},
   "source": [
    "Pour faire des tirages aléatoires avec python, nous pouvons utiliser la bibliothèque *numpy.random*"
   ]
  },
  {
   "cell_type": "code",
   "execution_count": null,
   "id": "255cca6b-0f2d-49dc-9c3c-89a8f51c0fb7",
   "metadata": {},
   "outputs": [],
   "source": [
    "import numpy.random"
   ]
  },
  {
   "cell_type": "markdown",
   "id": "27ad711e-0349-4d6f-a06b-8f0e014999aa",
   "metadata": {},
   "source": [
    "Nous commençons par créer un objet `rng` avec la méthode `default_rng`. Cet objet va nous permettre de générer des nombres aléatoires."
   ]
  },
  {
   "cell_type": "code",
   "execution_count": null,
   "id": "714e269a-5b3b-4d07-9523-a4c81c8c4167",
   "metadata": {},
   "outputs": [],
   "source": [
    "rng = numpy.random.default_rng()"
   ]
  },
  {
   "cell_type": "markdown",
   "id": "222ceae6-1b91-4c1e-b615-dddf1f2fcf7d",
   "metadata": {},
   "source": [
    "Nous pouvons à présent utiliser la méthode `integers` de l''objet `rng` pour simuler le lancé d'un dé à 6 faces en générant un nombre aléatoire entre 1 et 6 avec une distribution uniforme (c'est à dire que chaque résultat possible, 1, 2, 3, 4, 5 ou 6 a autant de chances d'arriver)."
   ]
  },
  {
   "cell_type": "code",
   "execution_count": null,
   "id": "20fdf539-b828-4af5-adc7-f20eafcf41ef",
   "metadata": {},
   "outputs": [],
   "source": [
    "# low is included, high is excluded\n",
    "rng.integers(low=1, high=7)"
   ]
  },
  {
   "cell_type": "markdown",
   "id": "2ed5c879-218d-4b40-8fcb-7316068b0d44",
   "metadata": {},
   "source": [
    "Essayez d'évaluer la cellule ci-dessus plusieurs fois pour vérifier que vous n'obtenez pas toujours le même nombre, mais qu'il s'agit toujours d'un nombre entre 1 et 6."
   ]
  },
  {
   "cell_type": "markdown",
   "id": "899e31a6-c48f-410a-ab50-a91f678525cd",
   "metadata": {},
   "source": [
    "Essayons à présent de vérifier empiriquement que chaque résultat entre 1 et 6 à autant de chance d'arriver. Pour ce faire, commencons par créer une fonction `throw_a_dice` qui simule le lancé de dé"
   ]
  },
  {
   "cell_type": "code",
   "execution_count": null,
   "id": "691eeaaa-8107-44d7-ac75-15609b46b35c",
   "metadata": {},
   "outputs": [],
   "source": [
    "def throw_a_dice(rng):\n",
    "    # throw a dice with six faces\n",
    "    return rng.integers(1, 7)"
   ]
  },
  {
   "cell_type": "markdown",
   "id": "729aeafe-7bbc-4886-add6-9485b5096a00",
   "metadata": {},
   "source": [
    "Appelons maintenant cette fonction un grand nombre de fois (disons 10,000) et stockons les résultats dans la liste `results`"
   ]
  },
  {
   "cell_type": "code",
   "execution_count": null,
   "id": "9c51bfea-e4b0-4662-9b1c-f40bfa05215c",
   "metadata": {
    "scrolled": true
   },
   "outputs": [],
   "source": [
    "N_throws = 10000\n",
    "results = []\n",
    "for i in range(N_throws):\n",
    "    results.append(throw_a_dice(rng))\n",
    "results"
   ]
  },
  {
   "cell_type": "markdown",
   "id": "fc3f574f-c599-487b-94eb-68cd0952b28b",
   "metadata": {},
   "source": [
    "Pour vérifier empiriquement que chaque résultat entre 1 et 6 à autant de chance d'arriver, nous pouvons compter le nombre de fois que chaque résultat est obtenu dans notre échantillon. Pour ce faire, une façon pratique est de convertir la liste en une `DataFrame` de la librairie `pandas` et d'utiliser la méthode `value_counts`"
   ]
  },
  {
   "cell_type": "code",
   "execution_count": null,
   "id": "97f3f739-b103-4c32-b31b-d46d5bafed8d",
   "metadata": {},
   "outputs": [],
   "source": [
    "results = pandas.DataFrame(results)\n",
    "results"
   ]
  },
  {
   "cell_type": "code",
   "execution_count": null,
   "id": "ccffe4b7-7c57-40ea-b514-f23e9b48c41c",
   "metadata": {},
   "outputs": [],
   "source": [
    "results.value_counts()"
   ]
  },
  {
   "cell_type": "markdown",
   "id": "0c613501-95e4-45a9-a50d-f966938129fe",
   "metadata": {},
   "source": [
    "On constate que chaque valeur possible du dé arrive à peu près le nombre de fois. Le nombre d'occurrence pour chaque valeur n'est bien sûr pas exactement le même, du fait du caractère aléatoire des tirages, mais vous pouvez vérifier en refaisant plusieurs fois l'expérience, qu'aucune valeur n'a l'air de revenir systématiquement plus souvent que les autres."
   ]
  },
  {
   "cell_type": "markdown",
   "id": "8bb2f51e-8f76-4742-9398-18cf249e6a6c",
   "metadata": {},
   "source": [
    "## 1.2 Un tricheur (durée indicative : 10min)"
   ]
  },
  {
   "cell_type": "markdown",
   "id": "3ea18488-1870-4896-a271-eb3833087dfd",
   "metadata": {},
   "source": [
    "Supposons à présent que dans le cadre d'un jeu de dé, un joueur triche: au lieu de rapporter le résultat d'un lancé de dé, il lance deux dés et rapporte le maximum des résultats obtenus. Par exemple, s'il obtient 2 et 4 il dit qu'il a obtenu 4. S'il obtient 1 et 3, il dit qu'il a obtenu trois, etc."
   ]
  },
  {
   "cell_type": "markdown",
   "id": "356706e7-c012-4086-bfa8-d9ca8388067c",
   "metadata": {},
   "source": [
    "Nous pouvons simuler le comportement de ce joueur par le biais de la fonction suivante :"
   ]
  },
  {
   "cell_type": "code",
   "execution_count": null,
   "id": "70eeb028-4e92-4e4c-95ce-5a099bbab09f",
   "metadata": {},
   "outputs": [],
   "source": [
    "def fake_throw(rng):\n",
    "    result_dice1 = throw_a_dice(rng)\n",
    "    result_dice2 = throw_a_dice(rng)\n",
    "    if result_dice1 > result_dice2:\n",
    "        return result_dice1\n",
    "    else:\n",
    "        return result_dice2"
   ]
  },
  {
   "cell_type": "markdown",
   "id": "3031b014-e51c-4c91-8f13-c9f239695c0f",
   "metadata": {},
   "source": [
    "Testez la fonction"
   ]
  },
  {
   "cell_type": "code",
   "execution_count": null,
   "id": "49887dce-a6cd-427f-bf3e-80a32851a8cc",
   "metadata": {},
   "outputs": [],
   "source": [
    "# votre code"
   ]
  },
  {
   "cell_type": "markdown",
   "id": "15d9cde6-55c4-402a-bc9f-4673168ec6db",
   "metadata": {},
   "source": [
    "Supposons que le jeu auquel on joue est la version suivante du *cul de chouette* (jeu du pays de Galle) : chaque joueur lance 379 dés à six faces et rapporter la somme des résultats obtenus. Le joueur avec le plus grand total gagne la partie."
   ]
  },
  {
   "cell_type": "markdown",
   "id": "522d6269-7976-487a-874d-d26857bc6803",
   "metadata": {},
   "source": [
    "Ecrivons une fonction pour simuler le résultat que pourrait obtenir notre tricheur dans le cadre de ce jeu :"
   ]
  },
  {
   "cell_type": "code",
   "execution_count": null,
   "id": "decd39a2-442d-4609-97b1-2450471a50a3",
   "metadata": {},
   "outputs": [],
   "source": [
    "def fake_sum_of_379_dices(rng):\n",
    "    s = 0\n",
    "    for i in range(379):\n",
    "        s = s + fake_throw(rng)\n",
    "    return s"
   ]
  },
  {
   "cell_type": "code",
   "execution_count": null,
   "id": "ad67ef23-2b0a-438a-8d66-f108573b05a5",
   "metadata": {},
   "outputs": [],
   "source": [
    "cheater_result = fake_sum_of_379_dices(rng)\n",
    "cheater_result"
   ]
  },
  {
   "cell_type": "markdown",
   "id": "05bd172f-5383-482e-a124-f67a98db90f6",
   "metadata": {},
   "source": [
    "Imaginons que le tricheur nous rapporte ce résultat. Pouvons-nous détecter immédiatement qu'il s'agit d'un tricheur ?"
   ]
  },
  {
   "cell_type": "markdown",
   "id": "045bb974-2aa1-4407-91dc-151265cf5300",
   "metadata": {},
   "source": [
    "# 1.3 Test d'une hypothèse où comment détecter un tricheur (durée indicative 35 min)"
   ]
  },
  {
   "cell_type": "markdown",
   "id": "4f019d61-0a21-4080-8e56-23de2d1b5734",
   "metadata": {},
   "source": [
    "Pour savoir si le résultat rapporté par le tricheur est plausible, nous pouvons le comparer à la distribution des résultats qu'obtiennent des joueurs honnêtes et mesurer la probabilité qu'un joueur honnête obtienne un résultat supérieur ou égal à celui rapporté par le tricheur. Si cette probabilité est extrèmement faible, nous aurons de bonnes raisons de suspecter le tricheur de ne pas être honnête."
   ]
  },
  {
   "cell_type": "markdown",
   "id": "9fe153e2-15c9-4fd5-b38b-0d3b40ecdde1",
   "metadata": {},
   "source": [
    "Comme nous l'avons vu en cours, nous pouvons utiliser des simulations pour obtenir une approximation de la distribution des résultats qu'obtiennent des joueurs honnêtes."
   ]
  },
  {
   "cell_type": "markdown",
   "id": "9f6f4be9-7244-40cb-ba06-9f0a861f6e0f",
   "metadata": {},
   "source": [
    "Commencons par coder une fonction qui génère le résultat obtenu par un joueur honnête (cette fonction ré-utilise la fonction `throw_a_dice` que nous avons créée précédemment :"
   ]
  },
  {
   "cell_type": "code",
   "execution_count": null,
   "id": "8d3f9ef6-a0ae-4627-801c-2bcbc2f699aa",
   "metadata": {},
   "outputs": [],
   "source": [
    "def sum_of_379_dices(rng):\n",
    "    s = 0\n",
    "    for i in range(379):\n",
    "        s = s + throw_a_dice(rng)\n",
    "    return s"
   ]
  },
  {
   "cell_type": "markdown",
   "id": "5be0f4cc-2fdd-45e5-bb41-31ac21ffcc18",
   "metadata": {},
   "source": [
    "Nous pouvons à présent utiliser cette fonction pour simuler un grand nombre de partie pour des joueurs honnêtes (disons 10,000 parties)"
   ]
  },
  {
   "cell_type": "code",
   "execution_count": null,
   "id": "d30e2a86-839e-4eb8-bf57-ca667b480c19",
   "metadata": {
    "scrolled": true
   },
   "outputs": [],
   "source": [
    "nb_runs = 10000\n",
    "\n",
    "legit_sums = []\n",
    "for run_id in range(nb_runs):\n",
    "    legit_sums.append(sum_of_379_dices(rng))\n",
    "legit_sums"
   ]
  },
  {
   "cell_type": "markdown",
   "id": "92899510-5b7d-4703-8851-093971743aa1",
   "metadata": {
    "scrolled": true
   },
   "source": [
    "Pour analyser les résultats de notre simulation plus facilement, stockons-les dans un tableau (`pandas.DataFrame`)"
   ]
  },
  {
   "cell_type": "code",
   "execution_count": null,
   "id": "6231b7b8-15c7-4bb0-99da-1510cc8b44e2",
   "metadata": {},
   "outputs": [],
   "source": [
    "import pandas\n",
    "legit_data = pandas.DataFrame({'sum' : legit_sums})\n",
    "legit_data"
   ]
  },
  {
   "cell_type": "markdown",
   "id": "41a11666-17b2-4cd9-b9e3-5b59cf4b633e",
   "metadata": {},
   "source": [
    "Nous pouvons à présent utiliser la libraire *seaborn* pour représenter la distribution des résultats obtenus par simulation sous la forme d'un histogramme"
   ]
  },
  {
   "cell_type": "code",
   "execution_count": null,
   "id": "7bf21e89-164d-40e7-9f52-9b05a6df068d",
   "metadata": {},
   "outputs": [],
   "source": [
    "import seaborn\n",
    "\n",
    "g = seaborn.displot(data=legit_data, kind='hist', stat='density', bins=25)\n",
    "g.set(title=\"Distribution empirique des sommes obtenues par un joueur honnête\")"
   ]
  },
  {
   "cell_type": "markdown",
   "id": "7b22e6aa-1eba-4e42-8ddc-0a7310307770",
   "metadata": {},
   "source": [
    "Nous pouvons ajouter sur notre graphique une droite en rouge, indiquant la position de la valeur rapportée par notre tricheur, en utilisant la fonction `axvline` de la libraire `matplotlib.pyplot` une librairie très utilisée pour réaliser des tracés en python (`seaborn` s'appuye sur cette librairie et on utilise souvent `matplotlib.pyplot` pour raffiner/augmenter des tracés obtenus avec `seaborn`)."
   ]
  },
  {
   "cell_type": "code",
   "execution_count": null,
   "id": "1735fd46-546e-4568-9b3a-56c64a48409f",
   "metadata": {},
   "outputs": [],
   "source": [
    "import seaborn\n",
    "import matplotlib.pyplot as plt\n",
    "\n",
    "g = seaborn.displot(data=legit_data, kind='hist', stat='density', bins=25, aspect=1.5)\n",
    "plt.axvline(x=cheater_result, color='r')"
   ]
  },
  {
   "cell_type": "markdown",
   "id": "7e6f94c0-c3ea-4fb1-b6af-5ea006ee90c2",
   "metadata": {},
   "source": [
    "Comme on peut le constater sur la figure ci-dessous, la valeur rapportée par le tricheur est bien au-delà de toutes valeurs obtenues par un joueur honnête à travers 10,000 simulations. On en déduit que la probabilité d'obtenir une valeur au-moins aussi grande que celle rapportée par le tricheur (*p-value*) est inférieure à $1/10000$.\n",
    "\n",
    "Sur la base de cette analyse, il semble donc raisonnable de suspecter notre tricheur!"
   ]
  },
  {
   "cell_type": "markdown",
   "id": "844f1eed-2333-4823-b73c-148e446e36fe",
   "metadata": {},
   "source": [
    "# 2. Généralisation à un nouvel exemple <font color='red'>(partie notée, à rendre individuellement, durée indicative 1h)</font>"
   ]
  },
  {
   "cell_type": "markdown",
   "id": "5a986c00-b50d-4714-916f-3ec223a45d06",
   "metadata": {},
   "source": [
    "<font color='red'>**Cette partie est à rendre et notée. Le rendu doit obligatoirement se faire par le biais d'amétice avant la fin de la séance de TP.**</font> Chacun d'entre vous doit rendre un travail personnel pour cette partie, différent de celui de tous les autres étudiants. Les recopies et plagiats seront séverement sanctionnés.\n",
    "\n",
    "Dans cette partie, vous devez imaginer et décrire une situation différente de la situation considérée en partie 1, identifier une hypothèse à tester dans le cadre de cette nouvelle situation, proposer une simulation pour tester votre hypothèse, réaliser cette simulation et interpréter les résultats.\n",
    "\n",
    "Vous pouvez proposer des modifications très simples (par exemple, modifier le nombre de faces des dés considérés, le nombre de jets de dés réalisés, ou la manière dont le tricheur triche) ou plus compliquées (par exemple, envisager un jeu prenant une forme complètement différente). Vous pouvez gagner des points en proposant des modifications plus ambitieuses, mais il est tout à fait possible d'obtenir une très bonne note avec une modification très simple, **à condition de montrer une compréhension détaillée de l'impact de cette modification sur les résultats obtenus** (cf. grille d'évaluation ci-dessous).\n",
    "\n",
    "\n",
    "La grille d'évaluation suivante sera utilisée pour noter vos travaux:\n",
    "\n",
    "1. Motivation de l’analyse réalisée\n",
    "    - Analyse clairement pertinente et bien justifiée : 5\n",
    "    - Motivation partiellement claire, mais manque de précision : 2,5\n",
    "    - Motivation incompréhensible ou absente : 0\n",
    "\n",
    "2. Interprétation des résultats\n",
    "    - Interprétation correcte et pertinente des résultats : 5\n",
    "\t- Interprétation partiellement correcte, mais quelques lacunes : 2,5\n",
    "\t- Interprétation douteuse, incomplète ou manquante : 0\n",
    "\n",
    "3. Capacité à généraliser\n",
    "    - Situation simulée très différente de celle considérée en partie 1 : 5\n",
    "    - Situation simulée présentant des différences subtantielles avec celle de la partie 1 : 2,5\n",
    "    - Simulation d'une situation quasi identique à celle de la partie 1 : 0\n",
    "\n",
    "4. Correction du code\n",
    "    - Code fonctionnel et sans erreurs : 2,5\n",
    "    - Code fonctionnel mais avec des erreurs partielles : 1\n",
    "    - Code non fonctionnel ou contenant de nombreuses erreurs : 0\n",
    "\n",
    "5. Propreté du code\n",
    "    - Code propre, bien structuré et lisible : 2,5\n",
    "    - Code lisible mais désordonné ou manquant de clarté : 1\n",
    "    - Code difficilement lisible et mal structuré : 0\n",
    "\n",
    "Note totale : /20\n"
   ]
  },
  {
   "cell_type": "markdown",
   "id": "d6526f5a-3255-474f-8874-52bb65084ffc",
   "metadata": {},
   "source": [
    "## 2.1 Commencez par décrirer la nouvelle situation considérée"
   ]
  },
  {
   "cell_type": "markdown",
   "id": "0c559b8c-275c-4cdd-a4b0-d45ad0d9fa72",
   "metadata": {},
   "source": [
    "Votre réponse"
   ]
  },
  {
   "cell_type": "markdown",
   "id": "d354e961-f968-4cc3-847a-beb6beb7c754",
   "metadata": {},
   "source": [
    "## 2.2 Décrivez l'hypothèse que vous souhaitez tester"
   ]
  },
  {
   "cell_type": "markdown",
   "id": "de3416df-097d-4a21-9faf-a8cab45558f5",
   "metadata": {},
   "source": [
    "Votre réponse"
   ]
  },
  {
   "cell_type": "markdown",
   "id": "0386c07d-2348-433b-9286-4bb12089f303",
   "metadata": {},
   "source": [
    "## 2.3 Décrivez la simulation que vous souhaitez réaliser pour tester votre hypothèse"
   ]
  },
  {
   "cell_type": "markdown",
   "id": "05d94a2c-96f0-4366-9e98-17e7952e9874",
   "metadata": {},
   "source": [
    "Votre réponse"
   ]
  },
  {
   "cell_type": "markdown",
   "id": "1b80a3a0-315a-4f8d-8406-9a4eb46a3fdf",
   "metadata": {},
   "source": [
    "## 2.4 Implémentez la simulation proposée"
   ]
  },
  {
   "cell_type": "code",
   "execution_count": null,
   "id": "070488f3-45d4-4137-88f1-7b1fbf27f2bb",
   "metadata": {},
   "outputs": [],
   "source": [
    "# Votre réponse"
   ]
  },
  {
   "cell_type": "markdown",
   "id": "b21e50e6-c42a-49ca-acef-13fa761d847f",
   "metadata": {},
   "source": [
    "## 2.5 Représentez graphiquement les résultats"
   ]
  },
  {
   "cell_type": "code",
   "execution_count": null,
   "id": "8446795e-8172-4319-8ce3-f438a4e7fda7",
   "metadata": {},
   "outputs": [],
   "source": [
    "# Votre réponse"
   ]
  },
  {
   "cell_type": "markdown",
   "id": "2e9b6695-5a91-40e2-b5f4-b52f29ee1e66",
   "metadata": {},
   "source": [
    "## 2.6 Interprétation des résultats"
   ]
  },
  {
   "cell_type": "markdown",
   "id": "e6f78004-8997-4660-ac2e-c967687bddce",
   "metadata": {},
   "source": [
    "Expliquez notamment en quoi, et pourquoi, les résultats sont différents de ceux obtenus dans la partie 1"
   ]
  },
  {
   "cell_type": "markdown",
   "id": "55e0e6ae-30d4-458b-832b-94e05c4f6ef0",
   "metadata": {},
   "source": [
    "Votre réponse"
   ]
  },
  {
   "cell_type": "markdown",
   "id": "6f282b08-014c-4b16-a17d-967e98ee8966",
   "metadata": {},
   "source": [
    "# Crédits\n",
    "\n",
    "Ce cours est inspiré du cours data8 donné à UC Berkeley et en ré-utilise avec certaines modifications une partie des matériels (ces matériels sont généreusement mis à disposition publiquement sous licence Creative Commons avec attribution, consultez [https://www.data8.org](https://www.data8.org) pour plus d'informations."
   ]
  }
 ],
 "metadata": {
  "kernelspec": {
   "display_name": "Python 3 (ipykernel)",
   "language": "python",
   "name": "python3"
  },
  "language_info": {
   "codemirror_mode": {
    "name": "ipython",
    "version": 3
   },
   "file_extension": ".py",
   "mimetype": "text/x-python",
   "name": "python",
   "nbconvert_exporter": "python",
   "pygments_lexer": "ipython3",
   "version": "3.12.4"
  }
 },
 "nbformat": 4,
 "nbformat_minor": 5
}
