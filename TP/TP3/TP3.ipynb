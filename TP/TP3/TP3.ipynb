{
 "cells": [
  {
   "cell_type": "markdown",
   "id": "cell-lab01-1",
   "metadata": {
    "deletable": false,
    "tags": []
   },
   "source": [
    "# TP1 Manipulation et visualisation de données avec python et pandas\n",
    "\n",
    "On ne peut pas maîtriser les sujets techniques sans pratique, c'est pourquoi les travaux pratiques (TPs) sont une partie importante du cours de sciences des données.\n",
    "\n",
    "Si vous restez bloqué plus de quelques minutes sur des questions dans une partie non notée d'un TP (ici, toutes les parties sauf la partie 4), demandez de l'aide à un enseignant ou à un camarade de classe (Expliquer les choses est également bénéfique : la meilleure façon de consolider votre connaissance d'un sujet est de l'expliquer). Ne vous contentez pas de juste partager vos réponses sans explication, personne n'en bénéficierait.\n",
    "\n",
    "\n",
    "#### TP d'aujourd'hui\n",
    "\n",
    "Dans le TP d'aujourd'hui, vous allez travailler les compétences suivantes :\n",
    "\n",
    "1. naviguer dans les carnets Jupyter (appelés *Jupyter notebooks* en anglais), comme celui dans lequel vous vous trouvez actuellement\n",
    "2. manipuler des données représentées sous la forme de tableaux (DataFrames de pandas)\n",
    "3. visualiser ces données par la réalisation de graphes appropriés avec seaborn\n",
    " \n",
    "<font color='red'>**La dernière partie du TP (partie 4) est à rendre et notée. Le rendu doit obligatoirement se faire par le biais d'amétice avant la fin de la séance de TP.**</font>"
   ]
  },
  {
   "cell_type": "markdown",
   "id": "cell-lab01-2",
   "metadata": {
    "jp-MarkdownHeadingCollapsed": true
   },
   "source": [
    "# 1. Carnets Jupyter (durée indicative 10min)"
   ]
  },
  {
   "cell_type": "markdown",
   "id": "6f104e7c-fdc8-4dfc-9452-2c4a1af66a7b",
   "metadata": {},
   "source": [
    "Cette page web s'appelle un carnet Jupyter. Un notebook est un endroit où l'on écrit des programmes et où l'on voit leurs résultats, mais aussi où l'on écrit du texte.\n",
    "\n",
    "## 1.1. Cellules de texte\n",
    "Dans un carnet, chaque rectangle contenant du texte ou du code est appelé une *cellule*.\n",
    "\n",
    "Les cellules de texte (comme celle-ci) peuvent être modifiées en double-cliquant dessus. Elles sont écrites dans un format simple appelé [Markdown] (http://daringfireball.net/projects/markdown/syntax) pour ajouter le formatage et les titres de section.  Il n'est pas nécessaire d'apprendre le format Markdown, mais cela peut être utile.\n",
    "\n",
    "Après avoir modifié une cellule de texte, cliquez sur le bouton \"Exécuter la cellule\" en haut qui ressemble à ▶| ou maintenez enfoncées les touches `Shift` + `return` pour confirmer les modifications."
   ]
  },
  {
   "cell_type": "markdown",
   "id": "cell-lab01-3",
   "metadata": {
    "deletable": false
   },
   "source": [
    "**Question 1.1.1.** Ce paragraphe est dans sa propre cellule de texte.  Essayez de l'éditer de façon à ce que cette phrase soit la dernière du paragraphe, puis cliquez sur le bouton \"Exécuter la cellule\" ▶| ou maintenez les touches `Shift` + `return` enfoncées.  Cette phrase, par exemple, doit être supprimée.  Il en va de même pour celle-ci."
   ]
  },
  {
   "cell_type": "markdown",
   "id": "cell-lab01-4",
   "metadata": {},
   "source": [
    "## 1.2. Cellules de code\n",
    "Les autres cellules contiennent du code en langage Python 3. L'exécution d'une cellule de code entraîne l'exécution de tout le code qu'elle contient.\n",
    "\n",
    "Pour exécuter le code d'une cellule de code, cliquez d'abord sur cette cellule pour l'activer.  Elle sera mise en évidence par un petit rectangle vert ou bleu.  Ensuite, appuyez sur ▶| ou maintenez enfoncées les touches `shift` + `return`.\n",
    "\n",
    "Essayez d'exécuter cette cellule :"
   ]
  },
  {
   "cell_type": "code",
   "execution_count": null,
   "id": "cell-lab01-5",
   "metadata": {},
   "outputs": [],
   "source": [
    "print(\"Hello, World!\")"
   ]
  },
  {
   "cell_type": "markdown",
   "id": "cell-lab01-6",
   "metadata": {},
   "source": [
    "Et celui-ci :"
   ]
  },
  {
   "cell_type": "code",
   "execution_count": null,
   "id": "cell-lab01-7",
   "metadata": {},
   "outputs": [],
   "source": [
    "print(\"\\N{WAVING HAND SIGN}, \\N{EARTH GLOBE ASIA-AUSTRALIA}!\")"
   ]
  },
  {
   "cell_type": "markdown",
   "id": "cell-lab01-8",
   "metadata": {},
   "source": [
    "L'élément fondamental du code Python est une expression. Les cellules peuvent contenir plusieurs lignes avec plusieurs expressions. Lorsque vous exécutez une cellule, les lignes de code sont exécutées dans l'ordre dans lequel elles apparaissent. Chaque expression `print` imprime une ligne. Exécutez la cellule suivante et remarquez l'ordre de sortie."
   ]
  },
  {
   "cell_type": "code",
   "execution_count": null,
   "id": "cell-lab01-9",
   "metadata": {
    "deletable": false
   },
   "outputs": [],
   "source": [
    "print(\"First this line is printed,\")\n",
    "print(\"and then this one.\")"
   ]
  },
  {
   "cell_type": "markdown",
   "id": "cell-lab01-10",
   "metadata": {},
   "source": [
    "**Question 1.2.1.** Modifiez la cellule ci-dessus pour qu'elle affiche :\n",
    "\n",
    "    D'abord cette ligne,\n",
    "    puis tout le 🌏,\n",
    "    puis celle-ci.\n",
    "\n",
    "*Si vous restez bloqué sur le symbole de la Terre pendant plus de quelques minutes, essayez de parler à un voisin ou à un enseignant. C'est une bonne idée de faire ça pour tout problème rencontré en TP.*"
   ]
  },
  {
   "cell_type": "markdown",
   "id": "cell-lab01-11",
   "metadata": {
    "jp-MarkdownHeadingCollapsed": true
   },
   "source": [
    "## 1.3. Écrire des carnets Jupyter\n",
    "Vous pouvez utiliser les carnets Jupyter pour vos propres projets ou documents.  Lorsque vous créez votre propre carnet, vous devez créer vos propres cellules pour le texte et le code.\n",
    "\n",
    "Pour ajouter une cellule, cliquez sur le bouton + dans la barre de menu.  Au départ, il s'agit d'une cellule de texte.  Vous pouvez la transformer en cellule de code en cliquant à l'intérieur pour la mettre en surbrillance, en cliquant sur la liste déroulante située à côté du bouton de redémarrage (⟳) dans la barre de menus et en choisissant \"Code\".\n",
    "\n",
    "**Question 1.3.1.** Ajoutez une cellule de code en dessous de celle-ci.  Écrivez-y un code qui s'imprime :\n",
    "   \n",
    "    Une toute nouvelle cellule ! ♪🌏♪\n",
    "\n",
    "(Ce symbole de note de musique est comme le symbole de la Terre.)\n",
    "\n",
    "Exécutez votre cellule pour vérifier qu'elle fonctionne."
   ]
  },
  {
   "cell_type": "markdown",
   "id": "cell-lab01-12",
   "metadata": {
    "jp-MarkdownHeadingCollapsed": true
   },
   "source": [
    "## 1.4. Erreurs\n",
    "Python est un langage, et comme les langues humaines naturelles, il a des règles.  Il diffère du langage naturel de deux façons importantes :\n",
    "1. Les règles sont *simples*.  Vous pouvez apprendre la plupart d'entre elles en quelques semaines et acquérir une maîtrise raisonnable du langage en un semestre.\n",
    "2. Les règles sont *rigides*.  Si vous maîtrisez un langage naturel, vous pouvez comprendre un locuteur non compétent, en passant outre les petites erreurs.  Un ordinateur exécutant du code Python n'est pas assez intelligent pour faire cela.\n",
    "\n",
    "Chaque fois que vous écrivez du code, vous faites des erreurs.  Lorsque vous exécutez une cellule de code qui contient des erreurs, Python produit parfois des messages d'erreur pour vous indiquer ce que vous avez fait de mal.\n",
    "\n",
    "Les erreurs sont acceptables ; même les programmeurs expérimentés font beaucoup d'erreurs.  Lorsque vous faites une erreur, il vous suffit de trouver la source du problème, de le résoudre et de passer à autre chose.\n"
   ]
  },
  {
   "cell_type": "markdown",
   "id": "cell-lab01-13",
   "metadata": {},
   "source": [
    "Nous avons commis une erreur dans la cellule suivante.  Exécutez-la et voyez ce qui se passe."
   ]
  },
  {
   "cell_type": "code",
   "execution_count": null,
   "id": "cell-lab01-14",
   "metadata": {
    "deletable": false,
    "tags": [
     "raises-exception"
    ]
   },
   "outputs": [],
   "source": [
    "print(\"This line is missing something.\""
   ]
  },
  {
   "cell_type": "markdown",
   "id": "cell-lab01-15",
   "metadata": {},
   "source": [
    "**Note:** Dans la barre d'outils, il y a l'option de cliquer sur `Run > Run All Cells`, qui exécutera toutes les cellules de code dans ce carnet dans l'ordre. Cependant, le carnet arrête d'exécuter les cellules de code s'il rencontre une erreur, comme celle de la cellule ci-dessus."
   ]
  },
  {
   "cell_type": "markdown",
   "id": "cell-lab01-16",
   "metadata": {},
   "source": [
    "Vous devriez voir quelque chose comme ceci (moins nos annotations) :\n",
    "\n",
    "<img src=\"error.jpg\"/>\n",
    "\n",
    "La dernière ligne de la sortie d'erreur tente de vous dire ce qui n'a pas fonctionné.  La *syntaxe* d'un langage est sa structure, et cette `SyntaxError` vous dit que vous avez créé une structure illégale.  \"`EOF`\" signifie \"end of file\", donc le message dit que Python s'attendait à ce que vous écriviez quelque chose de plus (dans ce cas, une parenthèse droite) avant de terminer la cellule.\n",
    "\n",
    "La terminologie des langages de programmation est abondante, mais il n'est pas nécessaire de tout connaître pour programmer efficacement. Si vous voyez un message énigmatique comme celui-ci, vous pouvez souvent vous en sortir sans le déchiffrer.  (Bien sûr, si vous êtes frustré, demandez de l'aide à un voisin ou à un enseignant.) Dans l'exemple ci-dessus, nous voyons que l'une des sources d'une `SyntaxError` est liée aux parenthèses.\n",
    "\n",
    "\n",
    "Essayez de corriger le code ci-dessus pour pouvoir exécuter la cellule et voir le message voulu au lieu d'une erreur."
   ]
  },
  {
   "cell_type": "markdown",
   "id": "cell-lab01-17",
   "metadata": {
    "jp-MarkdownHeadingCollapsed": true
   },
   "source": [
    "## 1.5. Le noyau\n",
    "Le noyau est un programme qui exécute le code à l'intérieur de votre notebook et produit les résultats. En haut à droite de votre fenêtre, vous pouvez voir un cercle qui indique l'état de votre noyau. Si le cercle est vide (⚪), le noyau est inactif et prêt à exécuter du code. Si le cercle est rempli (⚫), le noyau est occupé à exécuter du code.\n",
    "\n",
    "À côté de chaque cellule de code, vous verrez un texte qui dit `[ ]`. Avant d'exécuter la cellule, vous verrez `[ ]`. Lorsque la cellule est en cours d'exécution, vous verrez `[*]`. Si vous voyez un astérisque (\\*) à côté d'une cellule qui ne disparaît pas, c'est probablement que le code à l'intérieur de la cellule prend trop de temps à s'exécuter, et que c'est peut-être le bon moment pour interrompre le noyau (voir ci-dessous). Lorsqu'une cellule a fini de s'exécuter, vous verrez un nombre à l'intérieur des crochets, comme ceci : `[1]`. Le nombre correspond à l'ordre dans lequel vous exécutez les cellules ; ainsi, la première cellule que vous exécutez affichera un 1 lorsqu'elle aura fini de s'exécuter, la deuxième affichera un 2, et ainsi de suite.\n",
    "\n",
    "Vous pouvez rencontrer des problèmes lorsque votre noyau reste bloqué pendant un temps excessif, lorsque votre ordinateur portable est très lent et ne répond pas, ou lorsque votre noyau perd sa connexion. Si cela se produit, essayez les étapes suivantes :\n",
    "1. En haut de l'écran, cliquez sur **Kernel**, puis **Interrupt**.\n",
    "2. Si cela ne suffit pas, cliquez sur **Kernel**, puis **Restart**. Si vous faites cela, vous devrez exécuter vos cellules de code depuis le début de votre cahier jusqu'à l'endroit où vous avez interrompu votre travail.\n",
    "3. Si cela ne vous aide pas, redémarrez votre serveur. Tout d'abord, sauvegardez votre travail en cliquant sur **File** en haut à gauche de votre écran, puis sur **Save and Checkpoint**. Ensuite, cliquez sur **File** et choisissez **Close and Shut Down Notebook** pour l'arrêter., Relancez ensuite le notebook. Vous devrez quand même réexécuter vos cellules de code."
   ]
  },
  {
   "cell_type": "markdown",
   "id": "e860b93f-028e-4711-ade1-c26bb7824553",
   "metadata": {
    "jp-MarkdownHeadingCollapsed": true
   },
   "source": [
    "# 2. Manipulation de données avec pandas (durée indicative 25min)"
   ]
  },
  {
   "cell_type": "markdown",
   "id": "17601896-a8c7-4359-908d-7d8c01d67b41",
   "metadata": {},
   "source": [
    "Commencons par charger des données dans une DataFrame pandas depuis un fichier texte avec la fonction `read_csv` de pandas."
   ]
  },
  {
   "cell_type": "code",
   "execution_count": null,
   "id": "0684cda2-796d-4990-bdff-0f2fe2f2dee5",
   "metadata": {},
   "outputs": [],
   "source": [
    "import pandas\n",
    "\n",
    "data = pandas.read_csv(\"ds_salaries.csv\")\n",
    "data"
   ]
  },
  {
   "cell_type": "markdown",
   "id": "9c803d65-1b3a-4c7d-8fbb-96cabff241ba",
   "metadata": {},
   "source": [
    "Ce jeu de données vient du site kaggle.com qui fournit toute sorte de ressources utiles en sciences des données.\n",
    "\n",
    "Le jeu de données est décrit à l'addresse: [https://www.kaggle.com/datasets/arnabchaki/data-science-salaries-2023](https://www.kaggle.com/datasets/arnabchaki/data-science-salaries-2023). Consultez cette page et trouvez-y ce que les différentes colonnes du jeu de données représentent (vous pouvez utiliser google.translate ou tout autre service de traduction automatique de votre choix si vous n'êtes pas à l'aise avec l'anglais)."
   ]
  },
  {
   "cell_type": "markdown",
   "id": "3eb13fc6-39cc-49d6-b838-70f320c37bff",
   "metadata": {},
   "source": [
    "Nous pouvons sélectionnez un seule colonne ou une seule ligne pour examiner son contenu, comme ceci:"
   ]
  },
  {
   "cell_type": "code",
   "execution_count": null,
   "id": "d1668a0e-c23c-4284-9dcc-0e6fb87d9dc5",
   "metadata": {},
   "outputs": [],
   "source": [
    "data['experience_level']"
   ]
  },
  {
   "cell_type": "code",
   "execution_count": null,
   "id": "2389bff1-028d-44fe-a1f3-0c14f443cb27",
   "metadata": {},
   "outputs": [],
   "source": [
    "data.iloc[0]"
   ]
  },
  {
   "cell_type": "markdown",
   "id": "ea43217e-5402-4df9-9195-1cac9f4ab3f2",
   "metadata": {},
   "source": [
    "Essayez vous-même pour d'autres lignes et d'autres colonnes"
   ]
  },
  {
   "cell_type": "code",
   "execution_count": null,
   "id": "1446b18d-7b60-453b-a4b4-385abf236eb7",
   "metadata": {},
   "outputs": [],
   "source": [
    "# Your code"
   ]
  },
  {
   "cell_type": "markdown",
   "id": "9c7bd55b-2415-4fb9-942e-97c75f371501",
   "metadata": {},
   "source": [
    "Nous pouvons utiliser la méthode `unique` des DataFrames pandas, pour voir les différentes valeurs prises dans une colonne. Par exemple"
   ]
  },
  {
   "cell_type": "code",
   "execution_count": null,
   "id": "f3cbf6e9-8a8e-41a3-96c4-af8ca3f51299",
   "metadata": {},
   "outputs": [],
   "source": [
    "data['experience_level'].unique()"
   ]
  },
  {
   "cell_type": "markdown",
   "id": "c73fb5dd-f006-4bcf-b339-b2e667f81c74",
   "metadata": {},
   "source": [
    "Ces étiquettes semblent correspondre respectivement à \"Senior-level\", \"Mid-level\" et \"Entry-level\". \"EX\" veut sans doute dire \"Exceptional\" or \"Experienced\"."
   ]
  },
  {
   "cell_type": "markdown",
   "id": "1e642eef-41fe-4b19-baaf-f9134dd434f4",
   "metadata": {},
   "source": [
    "Examinez d'autres colonnes de la même manière pour déterminer les valeurs présentes dans ces colonnes."
   ]
  },
  {
   "cell_type": "code",
   "execution_count": null,
   "id": "9090e064-abca-4202-8585-d17ea557cdd2",
   "metadata": {},
   "outputs": [],
   "source": [
    "# Your code"
   ]
  },
  {
   "cell_type": "markdown",
   "id": "2fd5e405-5474-479c-b003-6f8ef3338b95",
   "metadata": {},
   "source": [
    "Imaginons que nous voulions nous restreindre à examiner seulement les données pour des employés résidant en France. Nous pouvons sélectionner le sous-tableau correspondant de la manière suivante:"
   ]
  },
  {
   "cell_type": "code",
   "execution_count": null,
   "id": "f5de7eea-cfa8-47b1-a1ca-f509a17abb07",
   "metadata": {
    "scrolled": true
   },
   "outputs": [],
   "source": [
    "data_FR = data[data['employee_residence'] == 'FR']"
   ]
  },
  {
   "cell_type": "markdown",
   "id": "141bdb1d-84c8-4277-b9d7-d22efaa0b2d9",
   "metadata": {},
   "source": [
    "Combien y-a-t-il d'entrées pour des employés résidant en France dans le jeu de données ?"
   ]
  },
  {
   "cell_type": "code",
   "execution_count": null,
   "id": "1e26e9cc-43eb-4165-a8bb-fd9fa535ecbf",
   "metadata": {},
   "outputs": [],
   "source": [
    "# Your code"
   ]
  },
  {
   "cell_type": "markdown",
   "id": "b8f242e1-3985-47a9-bd8b-88802740c0df",
   "metadata": {},
   "source": [
    "Sélectionnons à présent les employés résidant en France avec un niveau d'expérience \"SE\" (pour senior)."
   ]
  },
  {
   "cell_type": "code",
   "execution_count": null,
   "id": "67098e37-6d02-4368-95d3-819dd12bc88c",
   "metadata": {
    "scrolled": true
   },
   "outputs": [],
   "source": [
    "data_FR_SE = data[(data['employee_residence'] == 'FR') & (data['experience_level'] == 'SE')]\n",
    "data_FR_SE"
   ]
  },
  {
   "cell_type": "markdown",
   "id": "b6af446e-fba0-4c7d-a599-ec53e6ea1cfe",
   "metadata": {},
   "source": [
    "Ecrivez du code pour sélectionner les employés résidant aux Etats-Unis avec un salaire en dollars (`salary_in_usd`) supérieur à 200 000$\n",
    "par an."
   ]
  },
  {
   "cell_type": "code",
   "execution_count": null,
   "id": "0e9d9085-5f6d-44d6-ac02-7078ee83e0fb",
   "metadata": {},
   "outputs": [],
   "source": [
    "# Your code"
   ]
  },
  {
   "cell_type": "code",
   "execution_count": null,
   "id": "2b7fef29-7d36-418f-90eb-e9ba3309d421",
   "metadata": {
    "scrolled": true
   },
   "outputs": [],
   "source": [
    "data"
   ]
  },
  {
   "cell_type": "markdown",
   "id": "60928c4b-ea1f-47c3-91a8-bc751d088832",
   "metadata": {},
   "source": [
    "Essayons à présent de déterminer combien il y a d'entrées dans le tableau pour chaque niveau d'expérience. "
   ]
  },
  {
   "cell_type": "code",
   "execution_count": null,
   "id": "5905e7e1-c840-428c-88f0-3b500bb7ba8a",
   "metadata": {},
   "outputs": [],
   "source": [
    "data.groupby('experience_level').agg(Count=('salary_in_usd', 'count'))"
   ]
  },
  {
   "cell_type": "markdown",
   "id": "6a656b2b-41bf-4c32-b2ea-578bb627a715",
   "metadata": {},
   "source": [
    "Proposez un code pour compter le nombre d'entrées dans le tableau pour chaque pays de résidence des employés"
   ]
  },
  {
   "cell_type": "code",
   "execution_count": null,
   "id": "18e3ede1-611c-4e98-8e86-9032396fc5a3",
   "metadata": {},
   "outputs": [],
   "source": [
    "# Your code"
   ]
  },
  {
   "cell_type": "markdown",
   "id": "e750028e-2242-4163-8318-5b52c32783c3",
   "metadata": {},
   "source": [
    "A présent, essayons d'obtenir le salaire moyen en fonction du niveau d'expérience."
   ]
  },
  {
   "cell_type": "code",
   "execution_count": null,
   "id": "542889fd-4be4-4e66-9fa5-70ee7c49cede",
   "metadata": {},
   "outputs": [],
   "source": [
    "data.groupby('experience_level').agg(mean_salary=('salary_in_usd', 'mean'))"
   ]
  },
  {
   "cell_type": "markdown",
   "id": "dc44dfb0-af1f-4226-9cc0-62e7b7ea70de",
   "metadata": {},
   "source": [
    "Le salaire moyen dépend-il du niveau d'expérience ?"
   ]
  },
  {
   "cell_type": "markdown",
   "id": "e770cd38-a3f1-4880-b66e-7a48fb4a2c06",
   "metadata": {},
   "source": [
    "Votre réponse"
   ]
  },
  {
   "cell_type": "markdown",
   "id": "1c93c909-3f27-4a16-9582-3f38a31da081",
   "metadata": {},
   "source": [
    "Que fait la ligne de code ci-dessous ?"
   ]
  },
  {
   "cell_type": "code",
   "execution_count": null,
   "id": "b7138add-2db7-4713-b042-3253e0f0e2e3",
   "metadata": {},
   "outputs": [],
   "source": [
    "data[data['employee_residence'].isin(['FR', 'US'])].groupby(['experience_level', 'employee_residence']).agg(mean_salary=('salary_in_usd', 'mean'))"
   ]
  },
  {
   "cell_type": "markdown",
   "id": "26809e1e-07e7-4445-97f3-84e459ec77fe",
   "metadata": {},
   "source": [
    "Votre réponse"
   ]
  },
  {
   "cell_type": "markdown",
   "id": "e489daab-e3fe-4d0f-8c14-7593d1a2c075",
   "metadata": {
    "jp-MarkdownHeadingCollapsed": true
   },
   "source": [
    "# 3. Visualisation de données avec seaborn (durée indicative 25min)"
   ]
  },
  {
   "cell_type": "markdown",
   "id": "bc653684-3edf-4893-b4bf-a36f72c7f0ba",
   "metadata": {},
   "source": [
    "Commencons par représenter graphiquement le salaire moyen en fonction de l'expérience. Pour ce faire, nous pouvons reprendre le code que nous avions utilisé précédemment pour créer une DataFrame `data_salary_experience` comme ceci :"
   ]
  },
  {
   "cell_type": "code",
   "execution_count": null,
   "id": "f57ea96d-570b-4953-85d9-7cc269d5b379",
   "metadata": {},
   "outputs": [],
   "source": [
    "data_salary_experience = data.groupby('experience_level').agg(mean_salary=('salary_in_usd', 'mean'))\n",
    "data_salary_experience"
   ]
  },
  {
   "cell_type": "markdown",
   "id": "72ce2aa7-a70d-45b6-9614-63efb82f5993",
   "metadata": {},
   "source": [
    "Pour utiliser les fonctions de tracé avec seaborn que nous avons vu en cours, il faudrait que `experience_level` soit une colonne comme les autres (ici elle sert d'index). Nous pouvons obtenir cela en utilisant la méthode `reset_index`:"
   ]
  },
  {
   "cell_type": "code",
   "execution_count": null,
   "id": "605c56c9-cba8-4ea5-82a4-526d4de4249d",
   "metadata": {},
   "outputs": [],
   "source": [
    "data_salary_experience = data_salary_experience.reset_index()\n",
    "data_salary_experience"
   ]
  },
  {
   "cell_type": "markdown",
   "id": "c9927de8-7dc7-4424-8206-a64d7178b429",
   "metadata": {},
   "source": [
    "Quelle type de graphe est approprié pour représenter ces données ?"
   ]
  },
  {
   "cell_type": "markdown",
   "id": "c127d1e2-dd41-47b8-9c33-5872f7975cd0",
   "metadata": {},
   "source": [
    "Your answer"
   ]
  },
  {
   "cell_type": "markdown",
   "id": "893a949b-aee0-4c2c-acd6-11bc557fd6ab",
   "metadata": {},
   "source": [
    "Essayons le code suivant"
   ]
  },
  {
   "cell_type": "code",
   "execution_count": null,
   "id": "f1928b52-0cc2-4473-b25f-f0937d16fce6",
   "metadata": {},
   "outputs": [],
   "source": [
    "import seaborn\n",
    "\n",
    "seaborn.catplot(data=data_salary_experience, x=\"experience_level\", y=\"mean_salary\", kind=\"bar\")"
   ]
  },
  {
   "cell_type": "markdown",
   "id": "b4a88ffb-f3c3-4243-8f6d-747f7565c883",
   "metadata": {},
   "source": [
    "Utilisez la méthode vue en cours pour réordonner les niveaux d'expérience dans un ordre naturel sur le graphe (par exemple du moins expérimenté au plus expérimenté)."
   ]
  },
  {
   "cell_type": "code",
   "execution_count": null,
   "id": "ca8466de-2be3-4369-9c08-3af5c1e4ca8f",
   "metadata": {},
   "outputs": [],
   "source": [
    "# Your code"
   ]
  },
  {
   "cell_type": "markdown",
   "id": "f59a1a97-8ea6-4dcc-b8a6-89ac53a589b1",
   "metadata": {},
   "source": [
    "Que se passe-t-il si nous essayons d'utiliser directement la DataFrame initiale `data` au lieu d'utiliser `data_salary_experience` ?"
   ]
  },
  {
   "cell_type": "code",
   "execution_count": null,
   "id": "cad238d0-7afb-4a5d-9045-1851cde7d027",
   "metadata": {},
   "outputs": [],
   "source": [
    "seaborn.catplot(data=data, x=\"experience_level\", y=\"salary_in_usd\", kind=\"bar\")"
   ]
  },
  {
   "cell_type": "markdown",
   "id": "fb93e777-72a9-4684-9244-3b8f64a4a008",
   "metadata": {},
   "source": [
    "Seaborn fait le travail de calculer les moyennes pour nous! Seaborn rajoute aussi des barres d'erreurs, mais nous n'essayerons pas de les interpréter aujourd'hui."
   ]
  },
  {
   "cell_type": "markdown",
   "id": "64033094-4bb8-4e0e-9c30-fde82a2c349c",
   "metadata": {},
   "source": [
    "Utilisez une approche similaire pour représenter le salaire moyen en dollar en fonction de `employee_residence` dans le jeu de données. Vous pouvez utiliser l'argument `aspect=5` pour obtenir un graphe suffisamment large pour être lisible (vous pouvez aussi mettre le salaire sur l'axe des `x`)."
   ]
  },
  {
   "cell_type": "code",
   "execution_count": null,
   "id": "be61cf1a-b582-4d1a-95d8-7f95905fb732",
   "metadata": {},
   "outputs": [],
   "source": [
    "# Your code"
   ]
  },
  {
   "cell_type": "markdown",
   "id": "349acd98-c8c8-4eb7-a935-5670e030e8db",
   "metadata": {},
   "source": [
    "Examinons à présent la distribution des salaires avec `displot`"
   ]
  },
  {
   "cell_type": "code",
   "execution_count": null,
   "id": "9a0c7080-b083-406a-b33f-5e3d7426e557",
   "metadata": {},
   "outputs": [],
   "source": [
    "fig = seaborn.displot(data=data, x='salary_in_usd', stat=\"density\")"
   ]
  },
  {
   "cell_type": "markdown",
   "id": "d2b26a2e-2527-4107-ab77-b24b7c88f00f",
   "metadata": {},
   "source": [
    "Sur la base de ce graphe, donnez une estimation grossière du salaire moyen dans ce jeu de données."
   ]
  },
  {
   "cell_type": "markdown",
   "id": "9487043b-bd66-4b5c-b535-3b3f92249354",
   "metadata": {},
   "source": [
    "Votre réponse"
   ]
  },
  {
   "cell_type": "markdown",
   "id": "e33be234-a250-459c-a4f2-87a4a5e1560b",
   "metadata": {},
   "source": [
    "La distribution des salaires dans le jeu de données est-elle symétrique ? "
   ]
  },
  {
   "cell_type": "markdown",
   "id": "00c37e81-d63e-4cc7-91dc-07c68bd2b0b8",
   "metadata": {},
   "source": [
    "Votre réponse"
   ]
  },
  {
   "cell_type": "markdown",
   "id": "12c935c8-9dbc-46b7-bea2-d2808c85bd62",
   "metadata": {},
   "source": [
    "A présent, représentez graphiquement la distribution des niveaux d'expérience dans le jeu de données"
   ]
  },
  {
   "cell_type": "code",
   "execution_count": null,
   "id": "989096be-9800-48fd-befc-6cb1be385bbf",
   "metadata": {},
   "outputs": [],
   "source": [
    "# Your code"
   ]
  },
  {
   "cell_type": "markdown",
   "id": "cc6eb86d-24c2-4214-a1fc-4fccb23e1106",
   "metadata": {},
   "source": [
    "Quel est le niveau d'expérience le plus représenté dans le jeu de données?"
   ]
  },
  {
   "cell_type": "markdown",
   "id": "abb52bd5-5c8d-45e2-91aa-607b8bf555cc",
   "metadata": {},
   "source": [
    "Votre réponse"
   ]
  },
  {
   "cell_type": "markdown",
   "id": "42b5a13f-930b-4cd9-8f91-19deb0d41bd0",
   "metadata": {},
   "source": [
    "Nous pouvons utiliser `hue`, `row` et `col` pour représenter plusieurs distributions à la fois. Par exemple:"
   ]
  },
  {
   "cell_type": "code",
   "execution_count": null,
   "id": "651f12f7-bb81-43c7-b017-01b2bf5402a7",
   "metadata": {},
   "outputs": [],
   "source": [
    "data_EN_EX = data[data['experience_level'].isin([\"EN\", \"EX\"])]\n",
    "fig = seaborn.displot(data=data_EN_EX, x='salary_in_usd', stat=\"density\", hue='experience_level', col='company_size',\n",
    "                      common_norm=False, bins=20)"
   ]
  },
  {
   "cell_type": "markdown",
   "id": "b91661c4-ae08-494a-83b5-eae4052c93bc",
   "metadata": {},
   "source": [
    "Quel est le rôle de l'argument `common_norm=False` dans le code ci-dessus? (Vous pouvez consulter la documentation de seaborn et tester le code sans cet argument pour répondre.)"
   ]
  },
  {
   "cell_type": "markdown",
   "id": "df647fcf-ff40-4966-a2ee-dc5559019dcc",
   "metadata": {},
   "source": [
    "Votre réponse"
   ]
  },
  {
   "cell_type": "markdown",
   "id": "d59d01f3-c735-449f-a1af-7f4940abd8a7",
   "metadata": {},
   "source": [
    "Les employés avec un niveau d'expérience exceptionnel sont-ils mieux payés que les employés débutants quelle que soit la taille de l'entreprise ? (Répondez sur la base du graphe ci-dessus.)"
   ]
  },
  {
   "cell_type": "markdown",
   "id": "e0f3f39a-9f81-4297-86ef-df22d152957f",
   "metadata": {},
   "source": [
    "Votre réponse"
   ]
  },
  {
   "cell_type": "markdown",
   "id": "38079f06-dfbc-4d54-97c4-e0e9097062ef",
   "metadata": {},
   "source": [
    "Représentons à présent le salaire moyen en dollars en fonction de l'année. Quel type de graphe est approprié pour ce faire ?"
   ]
  },
  {
   "cell_type": "markdown",
   "id": "d1a32a10-f2bb-466f-958e-ea71bae24e18",
   "metadata": {},
   "source": [
    "Votre réponse"
   ]
  },
  {
   "cell_type": "code",
   "execution_count": null,
   "id": "5058a170-f0f7-4b1f-b130-9de411338aef",
   "metadata": {},
   "outputs": [],
   "source": [
    "fig = seaborn.relplot(data=data, x='work_year', y='salary_in_usd', kind='line')"
   ]
  },
  {
   "cell_type": "markdown",
   "id": "c9c60235-8e50-4b8c-84c5-30403c206c4c",
   "metadata": {},
   "source": [
    "Le salaire moyen semble augmenter avec le temps. Utilisez `hue` pour regarder si c'est le cas indépendamment du niveau d'expérience (on pourrait penser que s'agissant d'un domaine d'activité nouveau, le nombre d'experts augmente avec le temps et que cela pourrait expliquer la hausse des salaires)."
   ]
  },
  {
   "cell_type": "code",
   "execution_count": null,
   "id": "d04a40c4-3e01-44b2-b4ed-7359bc3f6b4a",
   "metadata": {},
   "outputs": [],
   "source": [
    "# Votre code"
   ]
  },
  {
   "cell_type": "markdown",
   "id": "3506fd0d-ac78-4961-9e37-ceba57c7f7f6",
   "metadata": {},
   "source": [
    "Commentez les résultats. La hausse des salaires peut-elle être expliquée par une augmentation des compétences des travailleurs? Si ce n'est pas le cas, qu'est-ce qui pourrait l'expliquer?"
   ]
  },
  {
   "cell_type": "markdown",
   "id": "7b7b4373-3713-4781-b48d-f0e893ab3363",
   "metadata": {},
   "source": [
    "Votre réponse"
   ]
  },
  {
   "cell_type": "markdown",
   "id": "5686aaff-89f8-40f2-b352-10eb6b3d6c4f",
   "metadata": {},
   "source": [
    "Utilisez l'argument `col` pour ajouter une dimension représentant la taille des entreprises au graphe précédent."
   ]
  },
  {
   "cell_type": "code",
   "execution_count": null,
   "id": "37b91b5a-f136-4a6f-9d7f-37650e3d7bc6",
   "metadata": {},
   "outputs": [],
   "source": [
    "fig = seaborn.relplot(data=data, x='work_year', y='salary_in_usd', kind='line', hue='experience_level', col='company_size')"
   ]
  },
  {
   "cell_type": "markdown",
   "id": "56cf5c04-1a9e-455f-81b6-608ba1c1dd10",
   "metadata": {},
   "source": [
    "Commentez les résultats"
   ]
  },
  {
   "cell_type": "markdown",
   "id": "54badf6a-9426-49c9-a9ca-c4afa70ca080",
   "metadata": {},
   "source": [
    "Votre réponse"
   ]
  },
  {
   "cell_type": "markdown",
   "id": "844f1eed-2333-4823-b73c-148e446e36fe",
   "metadata": {
    "jp-MarkdownHeadingCollapsed": true
   },
   "source": [
    "# 4. Généralisation à un nouvel exemple <font color='red'>(partie notée, à rendre individuellement, durée indicative 1h)</font>"
   ]
  },
  {
   "cell_type": "markdown",
   "id": "5a986c00-b50d-4714-916f-3ec223a45d06",
   "metadata": {},
   "source": [
    "<font color='red'>**Cette partie est à rendre et notée. Le rendu doit obligatoirement se faire par le biais d'amétice avant la fin de la séance de TP.**</font> Chacun d'entre vous doit rendre un travail personnel pour cette partie, différent de celui de tous les autres étudiants. Les recopies et plagiats seront séverement sanctionnés.\n",
    "\n",
    "Nous vous proposons ci-dessous un jeu de données à explorer avec les outils que nous avons vu en cours+TD+TP (vous pouvez utiliser un autre jeu de données si vous le souhaitez---vous pouvez regarder les jeux de données disponibles sur kaggle.com---mais faites attention à ne pas perdre trop de temps à vous le procurer, car vous devez rendre quelque chose avant la fin de la séance de TP).\n",
    "\n",
    "Vous devez décrire le jeu de données utilisé (que contient-il, quel est son intérêt?) et réaliser une analyse de votre choix qui comportera au moins un graphe. Vous devrez expliquer clairement par écrit pourquoi vous avez choisi de réaliser ce graphe et ce qu'il vous apprend. \n",
    "\n",
    "La grille d'évaluation suivante sera utilisée pour noter vos travaux:\n",
    "\n",
    "1. Motivation de l’analyse réalisée\n",
    "    - Analyse clairement pertinente et bien justifiée : 5\n",
    "    - Motivation partiellement claire, mais manque de précision : 2,5\n",
    "    - Motivation incompréhensible ou absente : 0\n",
    "\n",
    "2. Interprétation des résultats\n",
    "    - Interprétation correcte et pertinente des résultats : 5\n",
    "\t- Interprétation partiellement correcte, mais quelques lacunes : 2,5\n",
    "\t- Interprétation douteuse, incomplète ou manquante : 0\n",
    "\n",
    "3. Capacité à généraliser les notions vues en cours\n",
    "    - Analyse innovante sur des données inédites : 5\n",
    "    - Analyse partiellement nouvelle (nouvelles données ou nouvelle approche sur des données vues en cours/TD/TP) : 2,5\n",
    "    - Analyse quasi identique à une vue en cours/TD/TP avec les mêmes données : 0\n",
    "\n",
    "4. Correction du code\n",
    "    - Code fonctionnel et sans erreurs : 2,5\n",
    "    - Code fonctionnel mais avec des erreurs partielles : 1\n",
    "    - Code non fonctionnel ou contenant de nombreuses erreurs : 0\n",
    "\n",
    "5. Propreté du code\n",
    "    - Code propre, bien structuré et lisible : 2,5\n",
    "    - Code lisible mais désordonné ou manquant de clarté : 1\n",
    "    - Code difficilement lisible et mal structuré : 0\n",
    "\n",
    "Note totale : /20\n"
   ]
  },
  {
   "cell_type": "markdown",
   "id": "72d0d201-9f95-4275-9593-6469ee9d989e",
   "metadata": {},
   "source": [
    "## Jeu de données proposé"
   ]
  },
  {
   "cell_type": "code",
   "execution_count": null,
   "id": "1f77e084-b86a-4d2b-95f5-8b849acbed3c",
   "metadata": {},
   "outputs": [],
   "source": [
    "# Source https://www.kaggle.com/datasets/lainguyn123/student-performance-factors?resource=download\n",
    "import pandas\n",
    "\n",
    "data = pandas.read_csv(\"StudentPerformanceFactors.csv\")\n",
    "data"
   ]
  },
  {
   "cell_type": "code",
   "execution_count": null,
   "id": "4f668991-ccfc-45c5-b091-bc6017dd0f46",
   "metadata": {},
   "outputs": [],
   "source": [
    "# A vous de jouer"
   ]
  },
  {
   "cell_type": "markdown",
   "id": "80e264cc-e02b-429f-876d-e6e0b2614780",
   "metadata": {
    "jp-MarkdownHeadingCollapsed": true
   },
   "source": [
    "# 5. Quelques questions optionnelles pour aller plus loin (cette partie est optionnelle et n'est pas à rendre)"
   ]
  },
  {
   "cell_type": "markdown",
   "id": "05d94a2c-96f0-4366-9e98-17e7952e9874",
   "metadata": {},
   "source": [
    "Que pensez vous du graphe ci-dessous, appelé *boxplot* ou diagramme à moustache, que nous avons obtenu en remplaçant `kind=bar` par `kind=box`?"
   ]
  },
  {
   "cell_type": "code",
   "execution_count": null,
   "id": "6c3eec47-50f9-42b7-bac3-0fd9c61928fd",
   "metadata": {},
   "outputs": [],
   "source": [
    "import pandas\n",
    "\n",
    "data = pandas.read_csv(\"ds_salaries.csv\")\n",
    "seaborn.catplot(data=data, x=\"experience_level\", y=\"salary_in_usd\", kind=\"box\")"
   ]
  },
  {
   "cell_type": "markdown",
   "id": "e6f78004-8997-4660-ac2e-c967687bddce",
   "metadata": {},
   "source": [
    "Your answer"
   ]
  },
  {
   "cell_type": "markdown",
   "id": "97205e6d-7e82-4ca9-9856-ba605af03e3e",
   "metadata": {},
   "source": [
    "Cherchez dans la documentation de pandas quelles sont les autres options pour l'argument `kind`pour la fonction `catplot`."
   ]
  },
  {
   "cell_type": "markdown",
   "id": "24861c18-3235-4dd2-8082-14d7d5739c95",
   "metadata": {},
   "source": [
    "Votre réponse"
   ]
  },
  {
   "cell_type": "markdown",
   "id": "e0104b87-5b51-4993-aabe-4bc6f51fe462",
   "metadata": {},
   "source": [
    "Même question pour `relplot` et `displot`."
   ]
  },
  {
   "cell_type": "markdown",
   "id": "d38fae10-fd30-4388-a141-e1e711214b63",
   "metadata": {},
   "source": [
    "Votre réponse"
   ]
  },
  {
   "cell_type": "markdown",
   "id": "e7258d23-4e3e-48fb-8ec2-c484e396f383",
   "metadata": {},
   "source": [
    "Que représentent les barres d'erreurs sur le graphe suivant?"
   ]
  },
  {
   "cell_type": "code",
   "execution_count": null,
   "id": "5ce200e3-e877-4811-b4ed-dbc5f5cd52b0",
   "metadata": {},
   "outputs": [],
   "source": [
    "data = pandas.read_csv(\"ds_salaries.csv\")\n",
    "seaborn.catplot(data=data, x=\"experience_level\", y=\"salary_in_usd\", kind=\"bar\")"
   ]
  },
  {
   "cell_type": "markdown",
   "id": "55e0e6ae-30d4-458b-832b-94e05c4f6ef0",
   "metadata": {},
   "source": [
    "Votre réponse"
   ]
  },
  {
   "cell_type": "markdown",
   "id": "6f282b08-014c-4b16-a17d-967e98ee8966",
   "metadata": {},
   "source": [
    "# Crédits\n",
    "\n",
    "Ce cours est inspiré du cours data8 donné à UC Berkeley et en ré-utilise avec certaines modifications une partie des matériels (ces matériels sont généreusement mis à disposition publiquement sous licence Creative Commons avec attribution, consultez [https://www.data8.org](https://www.data8.org) pour plus d'informations."
   ]
  }
 ],
 "metadata": {
  "kernelspec": {
   "display_name": "Python 3 (ipykernel)",
   "language": "python",
   "name": "python3"
  },
  "language_info": {
   "codemirror_mode": {
    "name": "ipython",
    "version": 3
   },
   "file_extension": ".py",
   "mimetype": "text/x-python",
   "name": "python",
   "nbconvert_exporter": "python",
   "pygments_lexer": "ipython3",
   "version": "3.12.4"
  }
 },
 "nbformat": 4,
 "nbformat_minor": 5
}
