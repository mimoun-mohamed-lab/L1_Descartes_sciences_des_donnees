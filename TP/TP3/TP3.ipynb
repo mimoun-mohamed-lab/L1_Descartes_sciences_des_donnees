{
 "cells": [
  {
   "cell_type": "markdown",
   "id": "cell-lab01-1",
   "metadata": {
    "deletable": false,
    "tags": []
   },
   "source": [
    "# TP3 Application de la loi des grand nombres: estimation de la fiabilité d'une estimation par bootstrap\n",
    "\n",
    "On ne peut pas maîtriser les sujets techniques sans pratique, c'est pourquoi les travaux pratiques (TPs) sont une partie importante du cours de sciences des données.\n",
    "\n",
    "Si vous restez bloqué plus de quelques minutes sur des questions dans une partie non notée d'un TP, demandez de l'aide à un enseignant ou à un camarade de classe (Expliquer les choses est également bénéfique : la meilleure façon de consolider votre connaissance d'un sujet est de l'expliquer). Ne vous contentez pas de juste partager vos réponses sans explication, personne n'en bénéficierait.\n",
    "\n",
    "\n",
    "#### TP d'aujourd'hui\n",
    "\n",
    "Dans le TP d'aujourd'hui, vous allez travailler les compétences suivantes:\n",
    "\n",
    "1. Implémenter la méthode du bootstrap en python\n",
    "2. Appliquer la méthode du bootstrap pour évaluer l'incertitude associée à des estimations\n",
    " \n",
    "<font color='red'>**La deuxième partie du TP est à rendre et notée. Le rendu doit obligatoirement se faire par le biais d'amétice avant la fin de la séance de TP.**</font>"
   ]
  },
  {
   "cell_type": "markdown",
   "id": "a2857c77-ab85-45a5-b23f-51e2001b2391",
   "metadata": {
    "jp-MarkdownHeadingCollapsed": true
   },
   "source": [
    "# 1. Evaluation de l'incertitude associée à une estimation par la méthode du boostrap (durée indicative 1h)"
   ]
  },
  {
   "cell_type": "markdown",
   "id": "8f405a76-ec9f-4a73-92b2-48a88cae6b2e",
   "metadata": {
    "jp-MarkdownHeadingCollapsed": true
   },
   "source": [
    "## 1.1 Implémentation de la méthode du bootstrap en python (durée indicative 30min)"
   ]
  },
  {
   "cell_type": "markdown",
   "id": "f05fefaf-6a52-4a17-806d-dd04a420dbb7",
   "metadata": {},
   "source": [
    "Nous commencons par importer les modules numpy, pandas et seaborn dont nous allons avoir besoin"
   ]
  },
  {
   "cell_type": "code",
   "execution_count": 1,
   "id": "3c264fd0-01ee-4d9e-8e45-239ffc9ffcbd",
   "metadata": {},
   "outputs": [],
   "source": [
    "import numpy as np\n",
    "import pandas\n",
    "import seaborn"
   ]
  },
  {
   "cell_type": "markdown",
   "id": "6cbfc797-cb77-4191-91cf-f62a2063f6d1",
   "metadata": {},
   "source": [
    "Nous créons un générateur de nombre aléatoires à l'aide de la librairie numpy.random, que nous appelons `rng`."
   ]
  },
  {
   "cell_type": "code",
   "execution_count": 2,
   "id": "874110ce-13db-4f42-9ac2-b0c9bb214b0a",
   "metadata": {},
   "outputs": [],
   "source": [
    "rng = np.random.default_rng()"
   ]
  },
  {
   "cell_type": "markdown",
   "id": "31335b05-4370-4e9c-9195-8cbe4fde1036",
   "metadata": {},
   "source": [
    "A présent, implémentons la méthode du bootstrap en python. Pour rappel, étant donné un échantillon de données $x_1, x_2, ..., x_n$ et une estimation $\\hat{\\theta} = f(x_1, x_2, ..., x_n)$ sur la base de cet échantillon d'un paramètre d'intérêt $\\theta$ (par exemple pour estimer la moyenne de la population dont est tiré l'échantillon, on pourrait calculer la moyenne de l'échantillon), la méthode consiste à:\n",
    "\n",
    "- Tirer un grand nombre d'échantillons de taille $n$ de la distribution empirique de l'échantillon. Disons $1000$ pour ce TP\n",
    "- Estimer le paramètre d'intérêt séparémment pour chacun de ces $1000$ échantillons de taille\n",
    "   $n$. Notons $\\tilde{\\theta}_1, \\tilde{\\theta}_2,..., \\tilde{\\theta}_{1000}$ les $1000$ valuers obtenues\n",
    "- Se baser sur la distribution empirique de $\\tilde{\\theta}_1, \\tilde{\\theta}_2,..., \\tilde{\\theta}_{1000}$ pour évaluer l'incertitude associée à notre estimation $\\hat{\\theta}$ de $\\theta$."
   ]
  },
  {
   "cell_type": "markdown",
   "id": "21b01a7c-fb2b-4452-b268-42c70cea82af",
   "metadata": {},
   "source": [
    "Pour implémenter cette méthode en python, commençons par écrire une fonction `get_samples_from_empirical_distribution_of_base_sample` pour tirer des échantillons de la distribution empirique de notre échantillon de départ $x_1, x_2, ..., x_n$.\n",
    "\n",
    "Nous écrivons une fonction qui prend en argument l'échantillon de départ sous le nom  `base_sample` et le nombre d'échantillons à tirer sous le nom `nb_samples` et qui renvoie l'échantillon obtenu sous la forme d'une liste.\n",
    "\n",
    "Tirer un échantillon de la distribution empirique de l'échantillon $x_1, x_2, ..., x_n$ revient simplement à choisir un élément de l'échantillon au hasard, ce qui peut être implémenté avec la méthode `choice` des générateurs de nombre aléatoire de `numpy.random`."
   ]
  },
  {
   "cell_type": "code",
   "execution_count": 5,
   "id": "8afb95f4-3971-498b-bc95-e9399c9fa1ff",
   "metadata": {},
   "outputs": [],
   "source": [
    "def get_samples_from_empirical_distribution_of_base_sample(base_sample, nb_samples):\n",
    "    samples = []\n",
    "    for i in range(nb_samples):\n",
    "        samples.append(rng.choice(base_sample))\n",
    "    return samples"
   ]
  },
  {
   "cell_type": "markdown",
   "id": "8af0e02d-2a69-41dc-9e09-31f86881b145",
   "metadata": {},
   "source": [
    "Testons notre méthode sur un échantillon inventé $2, 2, 3, 4$. La distribution empirique de cette échantillon donne une probabilité de 1/2 à la valeur 2, et de 1/4 aux valeurs 3 et 4."
   ]
  },
  {
   "cell_type": "code",
   "execution_count": 19,
   "id": "4b015db2-ccb9-4b0a-84bd-6e60110430f0",
   "metadata": {},
   "outputs": [
    {
     "data": {
      "text/plain": [
       "[np.int64(2),\n",
       " np.int64(2),\n",
       " np.int64(2),\n",
       " np.int64(3),\n",
       " np.int64(3),\n",
       " np.int64(2),\n",
       " np.int64(4),\n",
       " np.int64(2),\n",
       " np.int64(4),\n",
       " np.int64(3)]"
      ]
     },
     "execution_count": 19,
     "metadata": {},
     "output_type": "execute_result"
    }
   ],
   "source": [
    "get_samples_from_empirical_distribution_of_base_sample([2, 2, 3, 4], 10)"
   ]
  },
  {
   "cell_type": "markdown",
   "id": "dc0bf21d-6af1-4855-8fbb-d657bbf689db",
   "metadata": {},
   "source": [
    "Les valeurs renvoyée par la fonction semble bien respecter les proportions dictées par la distribution empirique de l'échantillon de départ"
   ]
  },
  {
   "cell_type": "markdown",
   "id": "977d173d-4c6e-4bf3-96d6-5c247284d76f",
   "metadata": {},
   "source": [
    "A présent, implémentons une fonction `reestimate_parameter` qui tire un échantillon de la distribution empirique de l'échantillon de départ de même taille que l'échantillon de départ (ce genre d'échantillon est souvent appelé un ré-échantillon de l'échantillon de départ) et qui estime le paramètre d'intérêt sur la base de ce ré-échantillon.\n",
    "\n",
    "Nous écrivons une fonction qui prend en argument l'échantillon de départ sous le nom `base_sample` et la fonction utilisée pour estimer le paramètre d'intérêt sous le nom `estimation_function` (si on veut estimer la moyenne d'une population à partir d'un échantillon de cette population, on pourrait par exemple donner comme valeur à cet argument la fonction `np.mean`).\n",
    "\n",
    "La fonction appelle la fonction `get_samples_from_empirical_distribution_of_base_sample` codée précédemment pour obtenir le ré-échantillon et retourne le résultat de l'application de la fonction `estimation_function` à ce ré-échantillon."
   ]
  },
  {
   "cell_type": "code",
   "execution_count": 21,
   "id": "3b7c6dac-b102-4152-b5b4-2a4a5881be2b",
   "metadata": {},
   "outputs": [],
   "source": [
    "def reestimate_parameter(base_sample, estimation_function):\n",
    "    resample = get_samples_from_empirical_distribution_of_base_sample(base_sample, len(base_sample))\n",
    "    return estimation_function(resample)"
   ]
  },
  {
   "cell_type": "markdown",
   "id": "f2d74e25-1184-4d7c-ad4d-e81c9c489a6d",
   "metadata": {},
   "source": [
    "Testons notre fonction sur notre échantillon inventé $2, 2, 3, 4$ en utilisant comme fonction d'estimation la moyenne `np.mean`. La moyenne de l'échantillon est $11/4=2.75$. La moyenne des ré-échantillons va dépendre des valeurs incluse dans le ré-échantillon et devrait fluctuer entre un minimum de $2$ pour un ré-échantillon composé de quatre $2$ et un maximum de $4$ pour un ré-échantillon composé de quatre $4$."
   ]
  },
  {
   "cell_type": "code",
   "execution_count": 27,
   "id": "51af2067-12b4-4194-814c-64238cf8b300",
   "metadata": {},
   "outputs": [
    {
     "data": {
      "text/plain": [
       "np.float64(2.75)"
      ]
     },
     "execution_count": 27,
     "metadata": {},
     "output_type": "execute_result"
    }
   ],
   "source": [
    "reestimate_parameter(base_sample=[2, 2, 3, 4], estimation_function=np.mean)"
   ]
  },
  {
   "cell_type": "markdown",
   "id": "f74749d6-9587-4ffa-b70c-3a085398ce53",
   "metadata": {},
   "source": [
    "Pour finir d'implémenter la méthode du bootstrap telle que décrite plus haut, il ne nous reste plus qu'à réiterer $1000$ fois le processus de ré-estimation du paramètre d'intérêt à partir d'un ré-échantillon."
   ]
  },
  {
   "cell_type": "code",
   "execution_count": 28,
   "id": "744d6132-5ba3-4492-8774-03a05d552415",
   "metadata": {},
   "outputs": [],
   "source": [
    "def get_boostrap_distribution_of_estimated_parameter(base_sample, estimation_function, nb_resamples=1000):\n",
    "    samples = []\n",
    "    for i in range(nb_resamples):\n",
    "        samples.append(reestimate_parameter(base_sample, estimation_function))\n",
    "    return samples"
   ]
  },
  {
   "cell_type": "markdown",
   "id": "e39070bf-9f97-4ce4-987a-3b0c6f1aae00",
   "metadata": {},
   "source": [
    "Testons à présent la méthode complète sur un échantillon de taile $400$ d'une distribution uniforme sur l'intervalle $[0,1[$ pour l'estimation de la moyenne. Ici, comme il s'agit d'un échantillon simulé, nous connaissons sa distribution réelle (distribution uniforme sur $[0,1[$) et nous savons donc que la moyenne de la population est l'espérance de cette distribution, c'est à dire $1/2$ (dans le reste du TP nous travaillerons avec des données réelles, pour lesquelles la distribution de la population n'est pas connue).\n",
    "\n",
    "Créons d'abord l'échantillon désiré et représentons sa distribution empirique par le biais d'un histogramme"
   ]
  },
  {
   "cell_type": "code",
   "execution_count": 34,
   "id": "f25f2051-f741-4e50-b70d-a86e6d5e2a73",
   "metadata": {},
   "outputs": [
    {
     "data": {
      "text/plain": [
       "<seaborn.axisgrid.FacetGrid at 0x11fc6bc20>"
      ]
     },
     "execution_count": 34,
     "metadata": {},
     "output_type": "execute_result"
    },
    {
     "data": {
      "image/png": "[encoded data removed]",
      "text/plain": [
       "<Figure size 500x500 with 1 Axes>"
      ]
     },
     "metadata": {},
     "output_type": "display_data"
    }
   ],
   "source": [
    "base_sample = rng.uniform(0, 1, 400)\n",
    "seaborn.displot(data=base_sample, kind='hist', stat='density')"
   ]
  },
  {
   "cell_type": "markdown",
   "id": "ad5eeae2-04c8-411b-9a2f-fc68145b71f6",
   "metadata": {},
   "source": [
    "La taille de l'échantillon semble suffisant ici pour que la distribution empirique de l'échantillon fournisse une approximation raisonnable de la distribution réelle des données. On s'attend donc à ce que la méthode du bootstrap, qui dépend de la qualité de cette approximation, donne des résultats fiables ici."
   ]
  },
  {
   "cell_type": "code",
   "execution_count": 32,
   "id": "c9d99194-704f-48a0-b4f9-5a7cfb9aa3e6",
   "metadata": {},
   "outputs": [
    {
     "data": {
      "text/plain": [
       "np.float64(0.49469537050105855)"
      ]
     },
     "execution_count": 32,
     "metadata": {},
     "output_type": "execute_result"
    }
   ],
   "source": [
    "np.mean(base_sample)"
   ]
  },
  {
   "cell_type": "markdown",
   "id": "b348444f-b28a-480c-b64a-df96f5736571",
   "metadata": {},
   "source": [
    "Nous voyons aussi ci-dessus que la moyenne de l'échantillon est assez proche de la moyenne de la population."
   ]
  },
  {
   "cell_type": "markdown",
   "id": "8605b659-096a-4eea-b1d1-667ab5fed7c0",
   "metadata": {},
   "source": [
    "Appliquons la méthode du boostrap à notre exemple"
   ]
  },
  {
   "cell_type": "code",
   "execution_count": 39,
   "id": "fb7678ee-3e90-4414-8528-6680a1c483dc",
   "metadata": {},
   "outputs": [],
   "source": [
    "estimation_function = np.mean\n",
    "mean_estimates_from_boostrap_method = get_boostrap_distribution_of_estimated_parameter(base_sample, estimation_function)"
   ]
  },
  {
   "cell_type": "markdown",
   "id": "981bb4eb-2857-4535-a46f-e8ac7858a6c3",
   "metadata": {},
   "source": [
    "Représentons sur un histogramme la distribution produite par la méthode du boostrap pour notre estimation de la moyenne"
   ]
  },
  {
   "cell_type": "code",
   "execution_count": 40,
   "id": "cbe6e66b-7610-4f7a-b043-6c579293b644",
   "metadata": {},
   "outputs": [
    {
     "data": {
      "text/plain": [
       "<seaborn.axisgrid.FacetGrid at 0x128b099a0>"
      ]
     },
     "execution_count": 40,
     "metadata": {},
     "output_type": "execute_result"
    },
    {
     "data": {
      "image/png": "[encoded data removed]",
      "text/plain": [
       "<Figure size 500x500 with 1 Axes>"
      ]
     },
     "metadata": {},
     "output_type": "display_data"
    }
   ],
   "source": [
    "seaborn.displot(data=mean_estimates_from_boostrap_method , kind='hist', stat='density')"
   ]
  },
  {
   "cell_type": "markdown",
   "id": "bdc7ad4e-3c27-46e4-aae2-8cb3417b3752",
   "metadata": {},
   "source": [
    "Comparons avec la distribution réelle pour notre estimation de la moyenne, qu'on peut obtenir un tirant un grand nombre de fois des échantillons de taille 400 de la vraie distribution des données"
   ]
  },
  {
   "cell_type": "code",
   "execution_count": 43,
   "id": "6376b244-7c5d-4b2a-9f82-01b657972047",
   "metadata": {},
   "outputs": [
    {
     "data": {
      "text/plain": [
       "<seaborn.axisgrid.FacetGrid at 0x11fd53c20>"
      ]
     },
     "execution_count": 43,
     "metadata": {},
     "output_type": "execute_result"
    },
    {
     "data": {
      "image/png": "[encoded data removed]",
      "text/plain": [
       "<Figure size 500x500 with 1 Axes>"
      ]
     },
     "metadata": {},
     "output_type": "display_data"
    }
   ],
   "source": [
    "actual_mean_estimates = []\n",
    "for i in range(1000):\n",
    "    sample = rng.uniform(0, 1, 400)\n",
    "    actual_mean_estimates.append(np.mean(sample))\n",
    "seaborn.displot(data=actual_mean_estimates, kind='hist', stat='density')"
   ]
  },
  {
   "cell_type": "markdown",
   "id": "634bcdf0-9740-4a91-a90c-df6816e29036",
   "metadata": {},
   "source": [
    "Nous pouvons aussi calculer les écarts-types pour la distribution obtenue par boostrap et pour la distribution réelle de notre estimateur de la moyenne d'une loi uniforme à partir d'un échantillon de taille $400$:"
   ]
  },
  {
   "cell_type": "code",
   "execution_count": 45,
   "id": "74036845-6b05-4b85-9dd8-579dd6360a9b",
   "metadata": {},
   "outputs": [
    {
     "name": "stdout",
     "output_type": "stream",
     "text": [
      "0.014704793335890452\n",
      "0.014082609710570466\n"
     ]
    }
   ],
   "source": [
    "print(np.array(actual_mean_estimates).std())\n",
    "print(np.array(mean_estimates_from_boostrap_method).std())"
   ]
  },
  {
   "cell_type": "markdown",
   "id": "2d926436-24b1-4446-a2c5-30facd8cad73",
   "metadata": {},
   "source": [
    "On voit que la méthode du boostrap représente très bien l'incertitude associée à l'estimation de la moyenne d'une loi uniforme à partir d'un échantillon de taille $400$, avec peut-être une légère sous-estimation de cette incertitude.\n",
    "\n",
    "Ce qui est remarquable c'est qu'elle permet de faire cela sur la base d'un seul échantillon de taille $400$."
   ]
  },
  {
   "cell_type": "markdown",
   "id": "822b496a-27b2-42e0-8e8a-b3e0bd0795c7",
   "metadata": {
    "jp-MarkdownHeadingCollapsed": true
   },
   "source": [
    "## 1.2 Application au jeu de données sur les salaires en science des données (durée indicative 30min)\n",
    "\n",
    "(Jeu de données utilisé précédemment dans le cadre du TP1)"
   ]
  },
  {
   "cell_type": "code",
   "execution_count": 49,
   "id": "15ebc97e-818a-43d1-818f-13cfb84abf18",
   "metadata": {},
   "outputs": [
    {
     "data": {
      "text/html": [
       "<div>\n",
       "<style scoped>\n",
       "    .dataframe tbody tr th:only-of-type {\n",
       "        vertical-align: middle;\n",
       "    }\n",
       "\n",
       "    .dataframe tbody tr th {\n",
       "        vertical-align: top;\n",
       "    }\n",
       "\n",
       "    .dataframe thead th {\n",
       "        text-align: right;\n",
       "    }\n",
       "</style>\n",
       "<table border=\"1\" class=\"dataframe\">\n",
       "  <thead>\n",
       "    <tr style=\"text-align: right;\">\n",
       "      <th></th>\n",
       "      <th>work_year</th>\n",
       "      <th>experience_level</th>\n",
       "      <th>employment_type</th>\n",
       "      <th>job_title</th>\n",
       "      <th>salary</th>\n",
       "      <th>salary_currency</th>\n",
       "      <th>salary_in_usd</th>\n",
       "      <th>employee_residence</th>\n",
       "      <th>remote_ratio</th>\n",
       "      <th>company_location</th>\n",
       "      <th>company_size</th>\n",
       "    </tr>\n",
       "  </thead>\n",
       "  <tbody>\n",
       "    <tr>\n",
       "      <th>0</th>\n",
       "      <td>2023</td>\n",
       "      <td>SE</td>\n",
       "      <td>FT</td>\n",
       "      <td>Principal Data Scientist</td>\n",
       "      <td>80000</td>\n",
       "      <td>EUR</td>\n",
       "      <td>85847</td>\n",
       "      <td>ES</td>\n",
       "      <td>100</td>\n",
       "      <td>ES</td>\n",
       "      <td>L</td>\n",
       "    </tr>\n",
       "    <tr>\n",
       "      <th>1</th>\n",
       "      <td>2023</td>\n",
       "      <td>MI</td>\n",
       "      <td>CT</td>\n",
       "      <td>ML Engineer</td>\n",
       "      <td>30000</td>\n",
       "      <td>USD</td>\n",
       "      <td>30000</td>\n",
       "      <td>US</td>\n",
       "      <td>100</td>\n",
       "      <td>US</td>\n",
       "      <td>S</td>\n",
       "    </tr>\n",
       "    <tr>\n",
       "      <th>2</th>\n",
       "      <td>2023</td>\n",
       "      <td>MI</td>\n",
       "      <td>CT</td>\n",
       "      <td>ML Engineer</td>\n",
       "      <td>25500</td>\n",
       "      <td>USD</td>\n",
       "      <td>25500</td>\n",
       "      <td>US</td>\n",
       "      <td>100</td>\n",
       "      <td>US</td>\n",
       "      <td>S</td>\n",
       "    </tr>\n",
       "    <tr>\n",
       "      <th>3</th>\n",
       "      <td>2023</td>\n",
       "      <td>SE</td>\n",
       "      <td>FT</td>\n",
       "      <td>Data Scientist</td>\n",
       "      <td>175000</td>\n",
       "      <td>USD</td>\n",
       "      <td>175000</td>\n",
       "      <td>CA</td>\n",
       "      <td>100</td>\n",
       "      <td>CA</td>\n",
       "      <td>M</td>\n",
       "    </tr>\n",
       "    <tr>\n",
       "      <th>4</th>\n",
       "      <td>2023</td>\n",
       "      <td>SE</td>\n",
       "      <td>FT</td>\n",
       "      <td>Data Scientist</td>\n",
       "      <td>120000</td>\n",
       "      <td>USD</td>\n",
       "      <td>120000</td>\n",
       "      <td>CA</td>\n",
       "      <td>100</td>\n",
       "      <td>CA</td>\n",
       "      <td>M</td>\n",
       "    </tr>\n",
       "    <tr>\n",
       "      <th>...</th>\n",
       "      <td>...</td>\n",
       "      <td>...</td>\n",
       "      <td>...</td>\n",
       "      <td>...</td>\n",
       "      <td>...</td>\n",
       "      <td>...</td>\n",
       "      <td>...</td>\n",
       "      <td>...</td>\n",
       "      <td>...</td>\n",
       "      <td>...</td>\n",
       "      <td>...</td>\n",
       "    </tr>\n",
       "    <tr>\n",
       "      <th>3750</th>\n",
       "      <td>2020</td>\n",
       "      <td>SE</td>\n",
       "      <td>FT</td>\n",
       "      <td>Data Scientist</td>\n",
       "      <td>412000</td>\n",
       "      <td>USD</td>\n",
       "      <td>412000</td>\n",
       "      <td>US</td>\n",
       "      <td>100</td>\n",
       "      <td>US</td>\n",
       "      <td>L</td>\n",
       "    </tr>\n",
       "    <tr>\n",
       "      <th>3751</th>\n",
       "      <td>2021</td>\n",
       "      <td>MI</td>\n",
       "      <td>FT</td>\n",
       "      <td>Principal Data Scientist</td>\n",
       "      <td>151000</td>\n",
       "      <td>USD</td>\n",
       "      <td>151000</td>\n",
       "      <td>US</td>\n",
       "      <td>100</td>\n",
       "      <td>US</td>\n",
       "      <td>L</td>\n",
       "    </tr>\n",
       "    <tr>\n",
       "      <th>3752</th>\n",
       "      <td>2020</td>\n",
       "      <td>EN</td>\n",
       "      <td>FT</td>\n",
       "      <td>Data Scientist</td>\n",
       "      <td>105000</td>\n",
       "      <td>USD</td>\n",
       "      <td>105000</td>\n",
       "      <td>US</td>\n",
       "      <td>100</td>\n",
       "      <td>US</td>\n",
       "      <td>S</td>\n",
       "    </tr>\n",
       "    <tr>\n",
       "      <th>3753</th>\n",
       "      <td>2020</td>\n",
       "      <td>EN</td>\n",
       "      <td>CT</td>\n",
       "      <td>Business Data Analyst</td>\n",
       "      <td>100000</td>\n",
       "      <td>USD</td>\n",
       "      <td>100000</td>\n",
       "      <td>US</td>\n",
       "      <td>100</td>\n",
       "      <td>US</td>\n",
       "      <td>L</td>\n",
       "    </tr>\n",
       "    <tr>\n",
       "      <th>3754</th>\n",
       "      <td>2021</td>\n",
       "      <td>SE</td>\n",
       "      <td>FT</td>\n",
       "      <td>Data Science Manager</td>\n",
       "      <td>7000000</td>\n",
       "      <td>INR</td>\n",
       "      <td>94665</td>\n",
       "      <td>IN</td>\n",
       "      <td>50</td>\n",
       "      <td>IN</td>\n",
       "      <td>L</td>\n",
       "    </tr>\n",
       "  </tbody>\n",
       "</table>\n",
       "<p>3755 rows × 11 columns</p>\n",
       "</div>"
      ],
      "text/plain": [
       "      work_year experience_level employment_type                 job_title  \\\n",
       "0          2023               SE              FT  Principal Data Scientist   \n",
       "1          2023               MI              CT               ML Engineer   \n",
       "2          2023               MI              CT               ML Engineer   \n",
       "3          2023               SE              FT            Data Scientist   \n",
       "4          2023               SE              FT            Data Scientist   \n",
       "...         ...              ...             ...                       ...   \n",
       "3750       2020               SE              FT            Data Scientist   \n",
       "3751       2021               MI              FT  Principal Data Scientist   \n",
       "3752       2020               EN              FT            Data Scientist   \n",
       "3753       2020               EN              CT     Business Data Analyst   \n",
       "3754       2021               SE              FT      Data Science Manager   \n",
       "\n",
       "       salary salary_currency  salary_in_usd employee_residence  remote_ratio  \\\n",
       "0       80000             EUR          85847                 ES           100   \n",
       "1       30000             USD          30000                 US           100   \n",
       "2       25500             USD          25500                 US           100   \n",
       "3      175000             USD         175000                 CA           100   \n",
       "4      120000             USD         120000                 CA           100   \n",
       "...       ...             ...            ...                ...           ...   \n",
       "3750   412000             USD         412000                 US           100   \n",
       "3751   151000             USD         151000                 US           100   \n",
       "3752   105000             USD         105000                 US           100   \n",
       "3753   100000             USD         100000                 US           100   \n",
       "3754  7000000             INR          94665                 IN            50   \n",
       "\n",
       "     company_location company_size  \n",
       "0                  ES            L  \n",
       "1                  US            S  \n",
       "2                  US            S  \n",
       "3                  CA            M  \n",
       "4                  CA            M  \n",
       "...               ...          ...  \n",
       "3750               US            L  \n",
       "3751               US            L  \n",
       "3752               US            S  \n",
       "3753               US            L  \n",
       "3754               IN            L  \n",
       "\n",
       "[3755 rows x 11 columns]"
      ]
     },
     "execution_count": 49,
     "metadata": {},
     "output_type": "execute_result"
    }
   ],
   "source": [
    "import pandas\n",
    "\n",
    "data = pandas.read_csv(\"ds_salaries.csv\")\n",
    "data"
   ]
  },
  {
   "cell_type": "markdown",
   "id": "352e8677-3aa6-4dbe-b110-692640de68b2",
   "metadata": {},
   "source": [
    "Ici nous voudrions savoir si la taille des entreprise influe sur le salaire. Nous allons nous concentrer sur un sous-ensemble du jeu de données pour essayer d'aborder cette question en minimisant l'influence de variables confondantes. Nous choisissons de nous concentrer sur les employés seniors, travaillant à temps plein aux Etats-Unis dans une entreprise des Etats-Unis, qui constituent une grande part du jeu de données.\n",
    "\n",
    "Regardons le nombre de points de données disponibles par année et taille d'entreprise:"
   ]
  },
  {
   "cell_type": "code",
   "execution_count": 68,
   "id": "acaefaf4-4a51-49d4-96b6-c10de4763cf2",
   "metadata": {},
   "outputs": [
    {
     "data": {
      "text/plain": [
       "company_size  work_year\n",
       "L             2020            4\n",
       "              2021           22\n",
       "              2022           88\n",
       "              2023           42\n",
       "M             2020            1\n",
       "              2021            6\n",
       "              2022          934\n",
       "              2023         1140\n",
       "S             2020            1\n",
       "              2021            4\n",
       "              2022            3\n",
       "              2023            3\n",
       "Name: salary_in_usd, dtype: int64"
      ]
     },
     "execution_count": 68,
     "metadata": {},
     "output_type": "execute_result"
    }
   ],
   "source": [
    "data[(data['experience_level'] == 'SE') &\n",
    "     (data['employment_type'] == 'FT') &\n",
    "     (data['employee_residence'] == 'US') &\n",
    "     (data['company_location'] == 'US')].groupby(['company_size', 'work_year'])['salary_in_usd'].count()"
   ]
  },
  {
   "cell_type": "markdown",
   "id": "89cf2369-8e23-4202-9210-16633798ebb0",
   "metadata": {},
   "source": [
    "Il semble y avoir suffisamment de données pour espérer obtenir des résultats intéressants en 2022 et 2023. Regardons ce qui se passe en 2022 (vous pouvez refaire l'analyse pour 2023 en changeant la valeur de la variable ci-dessous)"
   ]
  },
  {
   "cell_type": "code",
   "execution_count": 51,
   "id": "6e712134-1445-4fd3-9851-141bbf4d67ef",
   "metadata": {},
   "outputs": [],
   "source": [
    "year=2022 # 2023"
   ]
  },
  {
   "cell_type": "markdown",
   "id": "f8b54a2b-09a7-4aee-8b81-1357f172aab5",
   "metadata": {},
   "source": [
    "Ci-dessous nous sélectionnons la portion des données qui nous intéresse et l'assemblons dans un dataframe `df_LM`"
   ]
  },
  {
   "cell_type": "code",
   "execution_count": 55,
   "id": "5313a558-156c-4f8b-af47-8c34e3bb2ba7",
   "metadata": {},
   "outputs": [],
   "source": [
    "df_L = data[(data['experience_level'] == 'SE') &\n",
    "                (data['employment_type'] == 'FT') &\n",
    "                (data['employee_residence'] == 'US') &\n",
    "                (data['company_location'] == 'US') & \n",
    "                (data['work_year'] == year) &\n",
    "                (data['company_size'] == 'L')]"
   ]
  },
  {
   "cell_type": "code",
   "execution_count": 56,
   "id": "223a4bd6-5ce3-4a07-8466-4128e9cf5aa3",
   "metadata": {},
   "outputs": [],
   "source": [
    "df_M = data[(data['experience_level'] == 'SE') &\n",
    "                (data['employment_type'] == 'FT') &\n",
    "                (data['employee_residence'] == 'US') &\n",
    "                (data['company_location'] == 'US') & \n",
    "                (data['work_year'] == year) &\n",
    "                (data['company_size'] == 'M')]"
   ]
  },
  {
   "cell_type": "code",
   "execution_count": 57,
   "id": "7bb10cad-be24-443d-948b-6298e0df5a42",
   "metadata": {},
   "outputs": [],
   "source": [
    "df_LM = pandas.concat([df_L, df_M])[['company_size', 'salary_in_usd']]\n"
   ]
  },
  {
   "cell_type": "code",
   "execution_count": 58,
   "id": "e9b76402-d4d9-4bfe-bacf-c824192c9392",
   "metadata": {},
   "outputs": [
    {
     "data": {
      "text/html": [
       "<div>\n",
       "<style scoped>\n",
       "    .dataframe tbody tr th:only-of-type {\n",
       "        vertical-align: middle;\n",
       "    }\n",
       "\n",
       "    .dataframe tbody tr th {\n",
       "        vertical-align: top;\n",
       "    }\n",
       "\n",
       "    .dataframe thead th {\n",
       "        text-align: right;\n",
       "    }\n",
       "</style>\n",
       "<table border=\"1\" class=\"dataframe\">\n",
       "  <thead>\n",
       "    <tr style=\"text-align: right;\">\n",
       "      <th></th>\n",
       "      <th>company_size</th>\n",
       "      <th>salary_in_usd</th>\n",
       "    </tr>\n",
       "  </thead>\n",
       "  <tbody>\n",
       "    <tr>\n",
       "      <th>775</th>\n",
       "      <td>L</td>\n",
       "      <td>130000</td>\n",
       "    </tr>\n",
       "    <tr>\n",
       "      <th>1019</th>\n",
       "      <td>L</td>\n",
       "      <td>192000</td>\n",
       "    </tr>\n",
       "    <tr>\n",
       "      <th>1821</th>\n",
       "      <td>L</td>\n",
       "      <td>125000</td>\n",
       "    </tr>\n",
       "    <tr>\n",
       "      <th>2060</th>\n",
       "      <td>L</td>\n",
       "      <td>190000</td>\n",
       "    </tr>\n",
       "    <tr>\n",
       "      <th>2207</th>\n",
       "      <td>L</td>\n",
       "      <td>230000</td>\n",
       "    </tr>\n",
       "    <tr>\n",
       "      <th>...</th>\n",
       "      <td>...</td>\n",
       "      <td>...</td>\n",
       "    </tr>\n",
       "    <tr>\n",
       "      <th>3417</th>\n",
       "      <td>M</td>\n",
       "      <td>80000</td>\n",
       "    </tr>\n",
       "    <tr>\n",
       "      <th>3440</th>\n",
       "      <td>M</td>\n",
       "      <td>135000</td>\n",
       "    </tr>\n",
       "    <tr>\n",
       "      <th>3441</th>\n",
       "      <td>M</td>\n",
       "      <td>115000</td>\n",
       "    </tr>\n",
       "    <tr>\n",
       "      <th>3449</th>\n",
       "      <td>M</td>\n",
       "      <td>165000</td>\n",
       "    </tr>\n",
       "    <tr>\n",
       "      <th>3460</th>\n",
       "      <td>M</td>\n",
       "      <td>152500</td>\n",
       "    </tr>\n",
       "  </tbody>\n",
       "</table>\n",
       "<p>1022 rows × 2 columns</p>\n",
       "</div>"
      ],
      "text/plain": [
       "     company_size  salary_in_usd\n",
       "775             L         130000\n",
       "1019            L         192000\n",
       "1821            L         125000\n",
       "2060            L         190000\n",
       "2207            L         230000\n",
       "...           ...            ...\n",
       "3417            M          80000\n",
       "3440            M         135000\n",
       "3441            M         115000\n",
       "3449            M         165000\n",
       "3460            M         152500\n",
       "\n",
       "[1022 rows x 2 columns]"
      ]
     },
     "execution_count": 58,
     "metadata": {},
     "output_type": "execute_result"
    }
   ],
   "source": [
    "df_LM"
   ]
  },
  {
   "cell_type": "markdown",
   "id": "ea5c2b03-a57d-4c41-b42b-77e4d18ed443",
   "metadata": {},
   "source": [
    "Regardons les salaires moyens pour les moyennes et grandes entreprises"
   ]
  },
  {
   "cell_type": "code",
   "execution_count": 60,
   "id": "d04c778e-9f92-4cbc-bfd8-95e989b3bd7a",
   "metadata": {},
   "outputs": [
    {
     "data": {
      "text/html": [
       "<div>\n",
       "<style scoped>\n",
       "    .dataframe tbody tr th:only-of-type {\n",
       "        vertical-align: middle;\n",
       "    }\n",
       "\n",
       "    .dataframe tbody tr th {\n",
       "        vertical-align: top;\n",
       "    }\n",
       "\n",
       "    .dataframe thead th {\n",
       "        text-align: right;\n",
       "    }\n",
       "</style>\n",
       "<table border=\"1\" class=\"dataframe\">\n",
       "  <thead>\n",
       "    <tr style=\"text-align: right;\">\n",
       "      <th></th>\n",
       "      <th>salary_in_usd</th>\n",
       "    </tr>\n",
       "    <tr>\n",
       "      <th>company_size</th>\n",
       "      <th></th>\n",
       "    </tr>\n",
       "  </thead>\n",
       "  <tbody>\n",
       "    <tr>\n",
       "      <th>L</th>\n",
       "      <td>168076.522727</td>\n",
       "    </tr>\n",
       "    <tr>\n",
       "      <th>M</th>\n",
       "      <td>152321.805139</td>\n",
       "    </tr>\n",
       "  </tbody>\n",
       "</table>\n",
       "</div>"
      ],
      "text/plain": [
       "              salary_in_usd\n",
       "company_size               \n",
       "L             168076.522727\n",
       "M             152321.805139"
      ]
     },
     "execution_count": 60,
     "metadata": {},
     "output_type": "execute_result"
    }
   ],
   "source": [
    "df_LM.groupby('company_size').mean()"
   ]
  },
  {
   "cell_type": "markdown",
   "id": "fdb07e66-f85f-4e66-ac84-efe28e9b3014",
   "metadata": {},
   "source": [
    "Le salaire semble plus élevé dans les grandes entreprises. Mais la différence observée pourrait-elle être due à des fluctuations aléatoires ou représente-t-elle une différence réelle de salaire entre les deux types d'entreprises?\n",
    "\n",
    "Nous pouvons regarder la distribution empirique des salaires dans notre échantillon"
   ]
  },
  {
   "cell_type": "code",
   "execution_count": 61,
   "id": "6bb78162-477e-466b-ad12-21d731048b1e",
   "metadata": {},
   "outputs": [
    {
     "data": {
      "text/plain": [
       "<seaborn.axisgrid.FacetGrid at 0x128c5b2c0>"
      ]
     },
     "execution_count": 61,
     "metadata": {},
     "output_type": "execute_result"
    },
    {
     "data": {
      "image/png": "[encoded data removed]",
      "text/plain": [
       "<Figure size 609.111x500 with 1 Axes>"
      ]
     },
     "metadata": {},
     "output_type": "display_data"
    }
   ],
   "source": [
    "seaborn.displot(data=df_LM, x='salary_in_usd', hue='company_size', kind='hist', stat='density', common_norm=False)"
   ]
  },
  {
   "cell_type": "markdown",
   "id": "81900ebe-8522-4d42-9873-9eae8c261917",
   "metadata": {},
   "source": [
    "La différence n'est pas flagrante sur cette figure... Utilisons la méthode du bootstrap pour essayer d'y voir plus clair"
   ]
  },
  {
   "cell_type": "code",
   "execution_count": 62,
   "id": "740a802d-88a6-4db8-9a7d-53e02cfbc3e5",
   "metadata": {},
   "outputs": [],
   "source": [
    "sample_L = df_L['salary_in_usd']\n",
    "sample_M = df_M['salary_in_usd']"
   ]
  },
  {
   "cell_type": "code",
   "execution_count": 63,
   "id": "c6417ed1-9dec-4dd4-a620-eb9e8988395e",
   "metadata": {},
   "outputs": [
    {
     "data": {
      "text/plain": [
       "775     130000\n",
       "1019    192000\n",
       "1821    125000\n",
       "2060    190000\n",
       "2207    230000\n",
       "         ...  \n",
       "3319    140400\n",
       "3463    405000\n",
       "3468    380000\n",
       "3470    177000\n",
       "3482    144000\n",
       "Name: salary_in_usd, Length: 88, dtype: int64"
      ]
     },
     "execution_count": 63,
     "metadata": {},
     "output_type": "execute_result"
    }
   ],
   "source": [
    "sample_L"
   ]
  },
  {
   "cell_type": "code",
   "execution_count": 64,
   "id": "479fea49-debf-44a1-b755-163e0d8a1d93",
   "metadata": {},
   "outputs": [
    {
     "data": {
      "text/plain": [
       "1258    375000\n",
       "1822    175000\n",
       "1823    155000\n",
       "1824    153600\n",
       "1825    106800\n",
       "         ...  \n",
       "3417     80000\n",
       "3440    135000\n",
       "3441    115000\n",
       "3449    165000\n",
       "3460    152500\n",
       "Name: salary_in_usd, Length: 934, dtype: int64"
      ]
     },
     "execution_count": 64,
     "metadata": {},
     "output_type": "execute_result"
    }
   ],
   "source": [
    "sample_M"
   ]
  },
  {
   "cell_type": "code",
   "execution_count": 65,
   "id": "c468f58e-fbf3-427e-a09b-c8c42ae5d2d4",
   "metadata": {},
   "outputs": [],
   "source": [
    "bootstrapped_mean_salary_L = get_boostrap_distribution_of_estimated_parameter(sample_L, np.mean)\n",
    "bootstrapped_mean_salary_M = get_boostrap_distribution_of_estimated_parameter(sample_M, np.mean)"
   ]
  },
  {
   "cell_type": "markdown",
   "id": "b737cb49-7775-4c5a-8e92-7e0d3b370e99",
   "metadata": {},
   "source": [
    "Mettons les résultats dans une DataFrame pandas pour pouvoir les représenter graphiquement avec seaborn"
   ]
  },
  {
   "cell_type": "code",
   "execution_count": 66,
   "id": "ec12bc03-c3a8-41a3-b37a-f167b96aa6b6",
   "metadata": {},
   "outputs": [],
   "source": [
    "bL = pandas.DataFrame({'mean_salary': bootstrapped_mean_salary_L, 'size': ['L']*len(bootstrapped_mean_salary_L)})\n",
    "bM = pandas.DataFrame({'mean_salary': bootstrapped_mean_salary_M, 'size': ['M']*len(bootstrapped_mean_salary_M)})\n",
    "b = pandas.concat([bL, bM])"
   ]
  },
  {
   "cell_type": "code",
   "execution_count": 67,
   "id": "11966671-d861-409f-a726-2db062f0d8ce",
   "metadata": {},
   "outputs": [
    {
     "data": {
      "text/plain": [
       "<seaborn.axisgrid.FacetGrid at 0x128b55970>"
      ]
     },
     "execution_count": 67,
     "metadata": {},
     "output_type": "execute_result"
    },
    {
     "data": {
      "image/png": "[encoded data removed]",
      "text/plain": [
       "<Figure size 562x500 with 1 Axes>"
      ]
     },
     "metadata": {},
     "output_type": "display_data"
    }
   ],
   "source": [
    "seaborn.displot(data=b, x='mean_salary', hue='size', kind='hist', stat='density', common_norm=False)"
   ]
  },
  {
   "cell_type": "markdown",
   "id": "3f727a5e-473f-475b-af80-3e8e7de46f5e",
   "metadata": {},
   "source": [
    "Les distributions estimées par bootstrap pour le salaires moyen dans les deux types d'entreprises sont relativement bien séparés. Cela suggère que la différence de salaire observée n'est pas une simple fluctuation aléatoire.\n",
    "\n",
    "Cela reste un résultat très préliminaire cependant. Nos conclusions pourraient être beaucoup plus fortes si nous avions une hypothèse causale concernant l'origine de cette différence de salaires et si nous réalisions un expérience soigneusement conçue pour tester cette hypothèse causale."
   ]
  },
  {
   "cell_type": "markdown",
   "id": "844f1eed-2333-4823-b73c-148e446e36fe",
   "metadata": {
    "jp-MarkdownHeadingCollapsed": true
   },
   "source": [
    "# 2. Généralisation à un nouvel exemple <font color='red'>(partie notée, à rendre individuellement, durée indicative 1h)</font>"
   ]
  },
  {
   "cell_type": "markdown",
   "id": "5a986c00-b50d-4714-916f-3ec223a45d06",
   "metadata": {},
   "source": [
    "<font color='red'>**Cette partie est à rendre et notée. Le rendu doit obligatoirement se faire par le biais d'amétice avant la fin de la séance de TP.**</font> Chacun d'entre vous doit rendre un travail personnel pour cette partie, différent de celui de tous les autres étudiants. Les recopies et plagiats seront séverement sanctionnés.\n",
    "\n",
    "Nous vous proposons ci-dessous un jeu de données à explorer avec les outils que nous avons vu en cours+TD+TP (vous pouvez utiliser un autre jeu de données si vous le souhaitez---vous pouvez regarder les jeux de données disponibles sur kaggle.com---mais faites attention à ne pas perdre trop de temps à vous le procurer, car vous devez rendre quelque chose avant la fin de la séance de TP).\n",
    "\n",
    "Vous devez (i) introduire et motiver une question de votre choix (vous pouvez reprendre la question que vous aviez choisi pour le TP1, par exemple), (ii) appliquer la méthode du bootstrap vue ci-dessus pour évaluer l'incertitude associée au quantités estimée pour répondre à votre question et (iii) interpréter les résultats obtenus.\n",
    "\n",
    "La grille d'évaluation suivante sera utilisée pour noter vos travaux:\n",
    "\n",
    "1. Motivation de l’analyse réalisée\n",
    "    - Analyse clairement pertinente et bien justifiée : 5\n",
    "    - Motivation partiellement claire, mais manque de précision : 2,5\n",
    "    - Motivation incompréhensible ou absente : 0\n",
    "\n",
    "2. Interprétation des résultats\n",
    "    - Interprétation correcte et pertinente des résultats : 5\n",
    "\t- Interprétation partiellement correcte, mais quelques lacunes : 2,5\n",
    "\t- Interprétation douteuse, incomplète ou manquante : 0\n",
    "\n",
    "3. Capacité à généraliser les notions vues en cours\n",
    "    - Analyse innovante sur des données inédites : 5\n",
    "    - Analyse partiellement nouvelle (nouvelles données ou nouvelle approche sur des données vues en cours/TD/TP) : 2,5\n",
    "    - Analyse quasi identique à une vue en cours/TD/TP avec les mêmes données : 0\n",
    "\n",
    "4. Correction du code\n",
    "    - Code fonctionnel et sans erreurs : 2,5\n",
    "    - Code fonctionnel mais avec des erreurs partielles : 1\n",
    "    - Code non fonctionnel ou contenant de nombreuses erreurs : 0\n",
    "\n",
    "5. Propreté du code\n",
    "    - Code propre, bien structuré et lisible : 2,5\n",
    "    - Code lisible mais désordonné ou manquant de clarté : 1\n",
    "    - Code difficilement lisible et mal structuré : 0\n",
    "\n",
    "Note totale : /20\n"
   ]
  },
  {
   "cell_type": "markdown",
   "id": "72d0d201-9f95-4275-9593-6469ee9d989e",
   "metadata": {},
   "source": [
    "## Jeu de données proposé"
   ]
  },
  {
   "cell_type": "code",
   "execution_count": null,
   "id": "1f77e084-b86a-4d2b-95f5-8b849acbed3c",
   "metadata": {},
   "outputs": [],
   "source": [
    "# Source https://www.kaggle.com/datasets/lainguyn123/student-performance-factors?resource=download\n",
    "import pandas\n",
    "\n",
    "data = pandas.read_csv(\"StudentPerformanceFactors.csv\")\n",
    "data"
   ]
  },
  {
   "cell_type": "code",
   "execution_count": null,
   "id": "4f668991-ccfc-45c5-b091-bc6017dd0f46",
   "metadata": {},
   "outputs": [],
   "source": [
    "# A vous de jouer"
   ]
  },
  {
   "cell_type": "markdown",
   "id": "6f282b08-014c-4b16-a17d-967e98ee8966",
   "metadata": {},
   "source": [
    "# Crédits\n",
    "\n",
    "Ce cours est inspiré du cours data8 donné à UC Berkeley et en ré-utilise avec certaines modifications une partie des matériels (ces matériels sont généreusement mis à disposition publiquement sous licence Creative Commons avec attribution, consultez [https://www.data8.org](https://www.data8.org) pour plus d'informations."
   ]
  }
 ],
 "metadata": {
  "kernelspec": {
   "display_name": "Python 3 (ipykernel)",
   "language": "python",
   "name": "python3"
  },
  "language_info": {
   "codemirror_mode": {
    "name": "ipython",
    "version": 3
   },
   "file_extension": ".py",
   "mimetype": "text/x-python",
   "name": "python",
   "nbconvert_exporter": "python",
   "pygments_lexer": "ipython3",
   "version": "3.12.4"
  }
 },
 "nbformat": 4,
 "nbformat_minor": 5
}
